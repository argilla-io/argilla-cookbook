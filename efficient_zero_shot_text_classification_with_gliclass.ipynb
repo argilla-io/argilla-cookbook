{
 "cells": [
  {
   "cell_type": "markdown",
   "metadata": {},
   "source": [
    "# Efficient Zero Shot Text Classification with GLiClass\n",
    "\n",
    "In this notebook we will show how to use the GLiClass library to perform zero shot text classification. This is an efficient zero-shot classifier inspired by GLiNER work. It demonstrates the same performance as a cross-encoder while being more compute-efficient because classification is done at a single forward path.\n",
    "\n",
    "We will use the `GLiClassModel` and `ZeroShotClassificationPipeline` classes to classify a given text into a class. We will use the `AutoTokenizer` class to tokenize the text."
   ]
  },
  {
   "cell_type": "markdown",
   "metadata": {},
   "source": [
    "## Getting started\n",
    "\n",
    "### Deploy the Argilla server¶\n",
    "\n",
    "If you already have deployed Argilla, you can skip this step. Otherwise, you can quickly deploy Argilla following [this guide](https://docs.argilla.io/latest/getting_started/quickstart/).\n",
    "\n",
    "### Install dependencies"
   ]
  },
  {
   "cell_type": "code",
   "execution_count": 1,
   "metadata": {},
   "outputs": [],
   "source": [
    "!pip install -qqq argilla gliclass transformers torch"
   ]
  },
  {
   "cell_type": "code",
   "execution_count": 5,
   "metadata": {},
   "outputs": [
    {
     "name": "stderr",
     "output_type": "stream",
     "text": [
      "100%|██████████| 1/1 [00:00<00:00, 11.89it/s]\n"
     ]
    },
    {
     "name": "stdout",
     "output_type": "stream",
     "text": [
      "dreams => 0.5050286650657654\n"
     ]
    },
    {
     "name": "stderr",
     "output_type": "stream",
     "text": [
      "100%|██████████| 1/1 [00:00<00:00, 19.95it/s]"
     ]
    },
    {
     "name": "stdout",
     "output_type": "stream",
     "text": [
      "travel => 0.9999985694885254\n",
      "dreams => 0.9999986886978149\n",
      "sport => 0.9999117851257324\n",
      "science => 0.9996119141578674\n",
      "politics => 0.8172165751457214\n"
     ]
    },
    {
     "name": "stderr",
     "output_type": "stream",
     "text": [
      "\n"
     ]
    }
   ],
   "source": [
    "from gliclass import GLiClassModel, ZeroShotClassificationPipeline\n",
    "from transformers import AutoTokenizer\n",
    "\n",
    "model = GLiClassModel.from_pretrained(\"knowledgator/gliclass-small-v1.0\")\n",
    "tokenizer = AutoTokenizer.from_pretrained(\"knowledgator/gliclass-small-v1.0\")\n",
    "\n",
    "pipeline_single_class = ZeroShotClassificationPipeline(model, tokenizer, classification_type='single-label', device='cuda:0')\n",
    "pipeline_multi_class = ZeroShotClassificationPipeline(model, tokenizer, classification_type='multi-label', device='cuda:0')\n",
    "\n",
    "text = \"One day I will see the world!\"\n",
    "labels = [\"travel\", \"dreams\", \"sport\", \"science\", \"politics\"]\n",
    "results = pipeline_single_class(text, labels, threshold=0.5)[0] #because we have one text\n",
    "\n",
    "for result in results:\n",
    "    print(result[\"label\"], \"=>\", result[\"score\"])\n",
    "    \n",
    "results = pipeline_multi_class(text, labels, threshold=0.5)[0] #because we have one text\n",
    "\n",
    "for result in results:\n",
    "    print(result[\"label\"], \"=>\", result[\"score\"])"
   ]
  }
 ],
 "metadata": {
  "kernelspec": {
   "display_name": ".env",
   "language": "python",
   "name": "python3"
  },
  "language_info": {
   "codemirror_mode": {
    "name": "ipython",
    "version": 3
   },
   "file_extension": ".py",
   "mimetype": "text/x-python",
   "name": "python",
   "nbconvert_exporter": "python",
   "pygments_lexer": "ipython3",
   "version": "3.10.14"
  }
 },
 "nbformat": 4,
 "nbformat_minor": 2
}
