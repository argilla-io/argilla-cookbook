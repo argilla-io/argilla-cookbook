{
 "cells": [
  {
   "cell_type": "markdown",
   "metadata": {},
   "source": [
    "# Train Zero Shot Text Classification with SetFit on Argilla Labeler"
   ]
  },
  {
   "cell_type": "markdown",
   "metadata": {},
   "source": [
    "- **Goal**: Show a standard workflow for a text classification task, including zero-shot suggestions and model fine-tuning.\n",
    "- **Dataset**: [IMDB](https://huggingface.co/datasets/stanfordnlp/imdb), a dataset of movie reviews that need to be classified as positive or negative.\n",
    "- **Libraries**: [datasets](https://github.com/huggingface/datasets), [transformers](https://github.com/huggingface/transformers), [setfit](https://github.com/huggingface/setfit)\n",
    "- **Components**: [TextField](https://docs.argilla.io/latest/reference/argilla/settings/fields/#src.argilla.settings._field.TextField), [LabelQuestion](https://docs.argilla.io/latest/reference/argilla/settings/questions/#src.argilla.settings._question.LabelQuestion), [Suggestion](https://docs.argilla.io/latest/reference/argilla/records/suggestions/), [Query](https://docs.argilla.io/dev/reference/argilla/search/#rgquery_1), [Filter](https://docs.argilla.io/dev/reference/argilla/search/#rgfilter)"
   ]
  },
  {
   "cell_type": "markdown",
   "metadata": {},
   "source": [
    "## Getting started"
   ]
  },
  {
   "cell_type": "markdown",
   "metadata": {},
   "source": [
    "### Deploy the Argilla server"
   ]
  },
  {
   "cell_type": "markdown",
   "metadata": {},
   "source": [
    "If you already have deployed Argilla, you can skip this step. Otherwise, you can quickly deploy Argilla following [this guide](../getting_started/quickstart.md)."
   ]
  },
  {
   "cell_type": "markdown",
   "metadata": {},
   "source": [
    "### Set up the environment"
   ]
  },
  {
   "cell_type": "markdown",
   "metadata": {},
   "source": [
    "To complete this tutorial, you need to install the Argilla SDK and a few third-party libraries via `pip`."
   ]
  },
  {
   "cell_type": "markdown",
   "metadata": {},
   "source": [
    "# Argilla Labeler "
   ]
  },
  {
   "cell_type": "code",
   "execution_count": 21,
   "metadata": {},
   "outputs": [
    {
     "name": "stdout",
     "output_type": "stream",
     "text": [
      "Collecting ipywidgets\n",
      "  Using cached ipywidgets-8.1.5-py3-none-any.whl.metadata (2.3 kB)\n",
      "Requirement already satisfied: comm>=0.1.3 in ./.venv/lib/python3.11/site-packages (from ipywidgets) (0.2.2)\n",
      "Requirement already satisfied: ipython>=6.1.0 in ./.venv/lib/python3.11/site-packages (from ipywidgets) (8.28.0)\n",
      "Requirement already satisfied: traitlets>=4.3.1 in ./.venv/lib/python3.11/site-packages (from ipywidgets) (5.14.3)\n",
      "Collecting widgetsnbextension~=4.0.12 (from ipywidgets)\n",
      "  Using cached widgetsnbextension-4.0.13-py3-none-any.whl.metadata (1.6 kB)\n",
      "Collecting jupyterlab-widgets~=3.0.12 (from ipywidgets)\n",
      "  Using cached jupyterlab_widgets-3.0.13-py3-none-any.whl.metadata (4.1 kB)\n",
      "Requirement already satisfied: decorator in ./.venv/lib/python3.11/site-packages (from ipython>=6.1.0->ipywidgets) (5.1.1)\n",
      "Requirement already satisfied: jedi>=0.16 in ./.venv/lib/python3.11/site-packages (from ipython>=6.1.0->ipywidgets) (0.19.1)\n",
      "Requirement already satisfied: matplotlib-inline in ./.venv/lib/python3.11/site-packages (from ipython>=6.1.0->ipywidgets) (0.1.7)\n",
      "Requirement already satisfied: prompt-toolkit<3.1.0,>=3.0.41 in ./.venv/lib/python3.11/site-packages (from ipython>=6.1.0->ipywidgets) (3.0.48)\n",
      "Requirement already satisfied: pygments>=2.4.0 in ./.venv/lib/python3.11/site-packages (from ipython>=6.1.0->ipywidgets) (2.18.0)\n",
      "Requirement already satisfied: stack-data in ./.venv/lib/python3.11/site-packages (from ipython>=6.1.0->ipywidgets) (0.6.3)\n",
      "Requirement already satisfied: typing-extensions>=4.6 in ./.venv/lib/python3.11/site-packages (from ipython>=6.1.0->ipywidgets) (4.12.2)\n",
      "Requirement already satisfied: pexpect>4.3 in ./.venv/lib/python3.11/site-packages (from ipython>=6.1.0->ipywidgets) (4.9.0)\n",
      "Requirement already satisfied: parso<0.9.0,>=0.8.3 in ./.venv/lib/python3.11/site-packages (from jedi>=0.16->ipython>=6.1.0->ipywidgets) (0.8.4)\n",
      "Requirement already satisfied: ptyprocess>=0.5 in ./.venv/lib/python3.11/site-packages (from pexpect>4.3->ipython>=6.1.0->ipywidgets) (0.7.0)\n",
      "Requirement already satisfied: wcwidth in ./.venv/lib/python3.11/site-packages (from prompt-toolkit<3.1.0,>=3.0.41->ipython>=6.1.0->ipywidgets) (0.2.13)\n",
      "Requirement already satisfied: executing>=1.2.0 in ./.venv/lib/python3.11/site-packages (from stack-data->ipython>=6.1.0->ipywidgets) (2.1.0)\n",
      "Requirement already satisfied: asttokens>=2.1.0 in ./.venv/lib/python3.11/site-packages (from stack-data->ipython>=6.1.0->ipywidgets) (2.4.1)\n",
      "Requirement already satisfied: pure-eval in ./.venv/lib/python3.11/site-packages (from stack-data->ipython>=6.1.0->ipywidgets) (0.2.3)\n",
      "Requirement already satisfied: six>=1.12.0 in ./.venv/lib/python3.11/site-packages (from asttokens>=2.1.0->stack-data->ipython>=6.1.0->ipywidgets) (1.16.0)\n",
      "Using cached ipywidgets-8.1.5-py3-none-any.whl (139 kB)\n",
      "Using cached jupyterlab_widgets-3.0.13-py3-none-any.whl (214 kB)\n",
      "Using cached widgetsnbextension-4.0.13-py3-none-any.whl (2.3 MB)\n",
      "Installing collected packages: widgetsnbextension, jupyterlab-widgets, ipywidgets\n",
      "Successfully installed ipywidgets-8.1.5 jupyterlab-widgets-3.0.13 widgetsnbextension-4.0.13\n",
      "\n",
      "\u001b[1m[\u001b[0m\u001b[34;49mnotice\u001b[0m\u001b[1;39;49m]\u001b[0m\u001b[39;49m A new release of pip is available: \u001b[0m\u001b[31;49m24.1.2\u001b[0m\u001b[39;49m -> \u001b[0m\u001b[32;49m24.2\u001b[0m\n",
      "\u001b[1m[\u001b[0m\u001b[34;49mnotice\u001b[0m\u001b[1;39;49m]\u001b[0m\u001b[39;49m To update, run: \u001b[0m\u001b[32;49mpip install --upgrade pip\u001b[0m\n"
     ]
    }
   ],
   "source": [
    "!pip install ipywidgets\n"
   ]
  },
  {
   "cell_type": "code",
   "execution_count": 1,
   "metadata": {},
   "outputs": [
    {
     "name": "stdout",
     "output_type": "stream",
     "text": [
      "\u001b[33mDEPRECATION: git+https://github.com/argilla-io/distilabel.git@fix/simplified-prompt-template-argilla-labeller#egg=distilabel[llama_cpp] contains an egg fragment with a non-PEP 508 name pip 25.0 will enforce this behaviour change. A possible replacement is to use the req @ url syntax, and remove the egg fragment. Discussion can be found at https://github.com/pypa/pip/issues/11617\u001b[0m\u001b[33m\n",
      "\u001b[0mCollecting distilabel (from distilabel[llama_cpp])\n",
      "  Cloning https://github.com/argilla-io/distilabel.git (to revision fix/simplified-prompt-template-argilla-labeller) to /private/var/folders/8z/jnnncfnj7_lfxym0262z4p180000gn/T/pip-install-z047oxvm/distilabel_ef385863b5484cea8f5bd96bddb41a8e\n",
      "  Running command git clone --filter=blob:none --quiet https://github.com/argilla-io/distilabel.git /private/var/folders/8z/jnnncfnj7_lfxym0262z4p180000gn/T/pip-install-z047oxvm/distilabel_ef385863b5484cea8f5bd96bddb41a8e\n",
      "  Running command git checkout -b fix/simplified-prompt-template-argilla-labeller --track origin/fix/simplified-prompt-template-argilla-labeller\n",
      "  Switched to a new branch 'fix/simplified-prompt-template-argilla-labeller'\n",
      "  branch 'fix/simplified-prompt-template-argilla-labeller' set up to track 'origin/fix/simplified-prompt-template-argilla-labeller'.\n",
      "  Resolved https://github.com/argilla-io/distilabel.git to commit f5e05029c96962c803937dec7447b81e867ec96e\n",
      "  Installing build dependencies ... \u001b[?25ldone\n",
      "\u001b[?25h  Getting requirements to build wheel ... \u001b[?25ldone\n",
      "\u001b[?25h  Preparing metadata (pyproject.toml) ... \u001b[?25ldone\n",
      "\u001b[?25hRequirement already satisfied: datasets>=2.16.0 in ./.venv/lib/python3.11/site-packages (from distilabel->distilabel[llama_cpp]) (3.0.1)\n",
      "Requirement already satisfied: httpx>=0.25.2 in ./.venv/lib/python3.11/site-packages (from distilabel->distilabel[llama_cpp]) (0.27.2)\n",
      "Requirement already satisfied: jinja2>=3.1.2 in ./.venv/lib/python3.11/site-packages (from distilabel->distilabel[llama_cpp]) (3.1.4)\n",
      "Requirement already satisfied: multiprocess>=0.70 in ./.venv/lib/python3.11/site-packages (from distilabel->distilabel[llama_cpp]) (0.70.16)\n",
      "Requirement already satisfied: nest-asyncio>=1.6.0 in ./.venv/lib/python3.11/site-packages (from distilabel->distilabel[llama_cpp]) (1.6.0)\n",
      "Requirement already satisfied: networkx>=3.0 in ./.venv/lib/python3.11/site-packages (from distilabel->distilabel[llama_cpp]) (3.3)\n",
      "Requirement already satisfied: orjson>=3.10.0 in ./.venv/lib/python3.11/site-packages (from distilabel->distilabel[llama_cpp]) (3.10.7)\n",
      "Requirement already satisfied: portalocker>=2.8.2 in ./.venv/lib/python3.11/site-packages (from distilabel->distilabel[llama_cpp]) (2.10.1)\n",
      "Requirement already satisfied: pydantic>=2.0 in ./.venv/lib/python3.11/site-packages (from distilabel->distilabel[llama_cpp]) (2.9.2)\n",
      "Requirement already satisfied: rich>=13.5.0 in ./.venv/lib/python3.11/site-packages (from distilabel->distilabel[llama_cpp]) (13.9.2)\n",
      "Requirement already satisfied: scipy>=1.10.0 in ./.venv/lib/python3.11/site-packages (from distilabel->distilabel[llama_cpp]) (1.14.1)\n",
      "Requirement already satisfied: tblib>=3.0.0 in ./.venv/lib/python3.11/site-packages (from distilabel->distilabel[llama_cpp]) (3.0.0)\n",
      "Requirement already satisfied: typer>=0.9.0 in ./.venv/lib/python3.11/site-packages (from distilabel->distilabel[llama_cpp]) (0.12.5)\n",
      "Requirement already satisfied: universal-pathlib>=0.2.2 in ./.venv/lib/python3.11/site-packages (from distilabel->distilabel[llama_cpp]) (0.2.5)\n",
      "Requirement already satisfied: llama-cpp-python>=0.2.0 in ./.venv/lib/python3.11/site-packages (from distilabel->distilabel[llama_cpp]) (0.2.85)\n",
      "Requirement already satisfied: filelock in ./.venv/lib/python3.11/site-packages (from datasets>=2.16.0->distilabel->distilabel[llama_cpp]) (3.16.1)\n",
      "Requirement already satisfied: numpy>=1.17 in ./.venv/lib/python3.11/site-packages (from datasets>=2.16.0->distilabel->distilabel[llama_cpp]) (1.26.4)\n",
      "Requirement already satisfied: pyarrow>=15.0.0 in ./.venv/lib/python3.11/site-packages (from datasets>=2.16.0->distilabel->distilabel[llama_cpp]) (17.0.0)\n",
      "Requirement already satisfied: dill<0.3.9,>=0.3.0 in ./.venv/lib/python3.11/site-packages (from datasets>=2.16.0->distilabel->distilabel[llama_cpp]) (0.3.8)\n",
      "Requirement already satisfied: pandas in ./.venv/lib/python3.11/site-packages (from datasets>=2.16.0->distilabel->distilabel[llama_cpp]) (2.2.3)\n",
      "Requirement already satisfied: requests>=2.32.2 in ./.venv/lib/python3.11/site-packages (from datasets>=2.16.0->distilabel->distilabel[llama_cpp]) (2.32.3)\n",
      "Requirement already satisfied: tqdm>=4.66.3 in ./.venv/lib/python3.11/site-packages (from datasets>=2.16.0->distilabel->distilabel[llama_cpp]) (4.66.5)\n",
      "Requirement already satisfied: xxhash in ./.venv/lib/python3.11/site-packages (from datasets>=2.16.0->distilabel->distilabel[llama_cpp]) (3.5.0)\n",
      "Requirement already satisfied: fsspec<=2024.6.1,>=2023.1.0 in ./.venv/lib/python3.11/site-packages (from fsspec[http]<=2024.6.1,>=2023.1.0->datasets>=2.16.0->distilabel->distilabel[llama_cpp]) (2024.6.1)\n",
      "Requirement already satisfied: aiohttp in ./.venv/lib/python3.11/site-packages (from datasets>=2.16.0->distilabel->distilabel[llama_cpp]) (3.10.9)\n",
      "Requirement already satisfied: huggingface-hub>=0.22.0 in ./.venv/lib/python3.11/site-packages (from datasets>=2.16.0->distilabel->distilabel[llama_cpp]) (0.25.2)\n",
      "Requirement already satisfied: packaging in ./.venv/lib/python3.11/site-packages (from datasets>=2.16.0->distilabel->distilabel[llama_cpp]) (24.1)\n",
      "Requirement already satisfied: pyyaml>=5.1 in ./.venv/lib/python3.11/site-packages (from datasets>=2.16.0->distilabel->distilabel[llama_cpp]) (6.0.2)\n",
      "Requirement already satisfied: anyio in ./.venv/lib/python3.11/site-packages (from httpx>=0.25.2->distilabel->distilabel[llama_cpp]) (4.6.0)\n",
      "Requirement already satisfied: certifi in ./.venv/lib/python3.11/site-packages (from httpx>=0.25.2->distilabel->distilabel[llama_cpp]) (2024.8.30)\n",
      "Requirement already satisfied: httpcore==1.* in ./.venv/lib/python3.11/site-packages (from httpx>=0.25.2->distilabel->distilabel[llama_cpp]) (1.0.6)\n",
      "Requirement already satisfied: idna in ./.venv/lib/python3.11/site-packages (from httpx>=0.25.2->distilabel->distilabel[llama_cpp]) (3.10)\n",
      "Requirement already satisfied: sniffio in ./.venv/lib/python3.11/site-packages (from httpx>=0.25.2->distilabel->distilabel[llama_cpp]) (1.3.1)\n",
      "Requirement already satisfied: h11<0.15,>=0.13 in ./.venv/lib/python3.11/site-packages (from httpcore==1.*->httpx>=0.25.2->distilabel->distilabel[llama_cpp]) (0.14.0)\n",
      "Requirement already satisfied: MarkupSafe>=2.0 in ./.venv/lib/python3.11/site-packages (from jinja2>=3.1.2->distilabel->distilabel[llama_cpp]) (3.0.1)\n",
      "Requirement already satisfied: typing-extensions>=4.5.0 in ./.venv/lib/python3.11/site-packages (from llama-cpp-python>=0.2.0->distilabel->distilabel[llama_cpp]) (4.12.2)\n",
      "Requirement already satisfied: diskcache>=5.6.1 in ./.venv/lib/python3.11/site-packages (from llama-cpp-python>=0.2.0->distilabel->distilabel[llama_cpp]) (5.6.3)\n",
      "Requirement already satisfied: annotated-types>=0.6.0 in ./.venv/lib/python3.11/site-packages (from pydantic>=2.0->distilabel->distilabel[llama_cpp]) (0.7.0)\n",
      "Requirement already satisfied: pydantic-core==2.23.4 in ./.venv/lib/python3.11/site-packages (from pydantic>=2.0->distilabel->distilabel[llama_cpp]) (2.23.4)\n",
      "Requirement already satisfied: markdown-it-py>=2.2.0 in ./.venv/lib/python3.11/site-packages (from rich>=13.5.0->distilabel->distilabel[llama_cpp]) (3.0.0)\n",
      "Requirement already satisfied: pygments<3.0.0,>=2.13.0 in ./.venv/lib/python3.11/site-packages (from rich>=13.5.0->distilabel->distilabel[llama_cpp]) (2.18.0)\n",
      "Requirement already satisfied: click>=8.0.0 in ./.venv/lib/python3.11/site-packages (from typer>=0.9.0->distilabel->distilabel[llama_cpp]) (8.1.7)\n",
      "Requirement already satisfied: shellingham>=1.3.0 in ./.venv/lib/python3.11/site-packages (from typer>=0.9.0->distilabel->distilabel[llama_cpp]) (1.5.4)\n",
      "Requirement already satisfied: aiohappyeyeballs>=2.3.0 in ./.venv/lib/python3.11/site-packages (from aiohttp->datasets>=2.16.0->distilabel->distilabel[llama_cpp]) (2.4.3)\n",
      "Requirement already satisfied: aiosignal>=1.1.2 in ./.venv/lib/python3.11/site-packages (from aiohttp->datasets>=2.16.0->distilabel->distilabel[llama_cpp]) (1.3.1)\n",
      "Requirement already satisfied: attrs>=17.3.0 in ./.venv/lib/python3.11/site-packages (from aiohttp->datasets>=2.16.0->distilabel->distilabel[llama_cpp]) (24.2.0)\n",
      "Requirement already satisfied: frozenlist>=1.1.1 in ./.venv/lib/python3.11/site-packages (from aiohttp->datasets>=2.16.0->distilabel->distilabel[llama_cpp]) (1.4.1)\n",
      "Requirement already satisfied: multidict<7.0,>=4.5 in ./.venv/lib/python3.11/site-packages (from aiohttp->datasets>=2.16.0->distilabel->distilabel[llama_cpp]) (6.1.0)\n",
      "Requirement already satisfied: yarl<2.0,>=1.12.0 in ./.venv/lib/python3.11/site-packages (from aiohttp->datasets>=2.16.0->distilabel->distilabel[llama_cpp]) (1.14.0)\n",
      "Requirement already satisfied: mdurl~=0.1 in ./.venv/lib/python3.11/site-packages (from markdown-it-py>=2.2.0->rich>=13.5.0->distilabel->distilabel[llama_cpp]) (0.1.2)\n",
      "Requirement already satisfied: charset-normalizer<4,>=2 in ./.venv/lib/python3.11/site-packages (from requests>=2.32.2->datasets>=2.16.0->distilabel->distilabel[llama_cpp]) (3.4.0)\n",
      "Requirement already satisfied: urllib3<3,>=1.21.1 in ./.venv/lib/python3.11/site-packages (from requests>=2.32.2->datasets>=2.16.0->distilabel->distilabel[llama_cpp]) (2.2.3)\n",
      "Requirement already satisfied: python-dateutil>=2.8.2 in ./.venv/lib/python3.11/site-packages (from pandas->datasets>=2.16.0->distilabel->distilabel[llama_cpp]) (2.9.0.post0)\n",
      "Requirement already satisfied: pytz>=2020.1 in ./.venv/lib/python3.11/site-packages (from pandas->datasets>=2.16.0->distilabel->distilabel[llama_cpp]) (2024.2)\n",
      "Requirement already satisfied: tzdata>=2022.7 in ./.venv/lib/python3.11/site-packages (from pandas->datasets>=2.16.0->distilabel->distilabel[llama_cpp]) (2024.2)\n",
      "Requirement already satisfied: six>=1.5 in ./.venv/lib/python3.11/site-packages (from python-dateutil>=2.8.2->pandas->datasets>=2.16.0->distilabel->distilabel[llama_cpp]) (1.16.0)\n",
      "Requirement already satisfied: propcache>=0.2.0 in ./.venv/lib/python3.11/site-packages (from yarl<2.0,>=1.12.0->aiohttp->datasets>=2.16.0->distilabel->distilabel[llama_cpp]) (0.2.0)\n",
      "\n",
      "\u001b[1m[\u001b[0m\u001b[34;49mnotice\u001b[0m\u001b[1;39;49m]\u001b[0m\u001b[39;49m A new release of pip is available: \u001b[0m\u001b[31;49m24.1.2\u001b[0m\u001b[39;49m -> \u001b[0m\u001b[32;49m24.2\u001b[0m\n",
      "\u001b[1m[\u001b[0m\u001b[34;49mnotice\u001b[0m\u001b[1;39;49m]\u001b[0m\u001b[39;49m To update, run: \u001b[0m\u001b[32;49mpip install --upgrade pip\u001b[0m\n"
     ]
    }
   ],
   "source": [
    "!pip install -U \"git+https://github.com/argilla-io/distilabel.git@fix/simplified-prompt-template-argilla-labeller#egg=distilabel[llama_cpp]\""
   ]
  },
  {
   "cell_type": "code",
   "execution_count": 69,
   "metadata": {},
   "outputs": [
    {
     "name": "stderr",
     "output_type": "stream",
     "text": [
      "/Users/ben/code/argilla-cookbook/.venv/lib/python3.11/site-packages/argilla/datasets/_resource.py:264: UserWarning: Workspace not provided. Using default workspace: argilla id: 108b045c-a82e-4c75-a61b-0cddfb22c4c8\n",
      "  warnings.warn(f\"Workspace not provided. Using default workspace: {workspace.name} id: {workspace.id}\")\n",
      "/Users/ben/code/argilla-cookbook/.venv/lib/python3.11/site-packages/argilla/records/_mapping/_mapper.py:89: UserWarning: Keys ['instruction', 'gender', 'age_group', 'nationality', 'expertise', 'language', 'distilabel_metadata', 'model_name', 'labels'] in data are not present in the mapping and will be ignored.\n",
      "  warnings.warn(f\"Keys {unknown_keys} in data are not present in the mapping and will be ignored.\")\n"
     ]
    },
    {
     "data": {
      "text/html": [
       "<pre style=\"white-space:pre;overflow-x:auto;line-height:normal;font-family:Menlo,'DejaVu Sans Mono',consolas,'Courier New',monospace\">DatasetRecords: The provided batch size <span style=\"color: #008080; text-decoration-color: #008080; font-weight: bold\">256</span> was normalized. Using value <span style=\"color: #008080; text-decoration-color: #008080; font-weight: bold\">20</span>.\n",
       "</pre>\n"
      ],
      "text/plain": [
       "DatasetRecords: The provided batch size \u001b[1;36m256\u001b[0m was normalized. Using value \u001b[1;36m20\u001b[0m.\n"
      ]
     },
     "metadata": {},
     "output_type": "display_data"
    },
    {
     "name": "stderr",
     "output_type": "stream",
     "text": [
      "Sending records...: 100%|██████████| 1/1 [00:00<00:00,  3.50batch/s]\n"
     ]
    }
   ],
   "source": [
    "import os\n",
    "from uuid import uuid4\n",
    "\n",
    "import argilla as rg\n",
    "\n",
    "client = rg.Argilla()\n",
    "\n",
    "labels = [\"positive\", \"negative\", \"neutral\"]\n",
    "\n",
    "settings = rg.Settings(\n",
    "    guidelines=\"Label the sentiment of the text\",\n",
    "    fields=[\n",
    "        rg.TextField(\n",
    "            name=\"text\",\n",
    "            title=\"Text\",\n",
    "            description=\"A review of a pc component\",\n",
    "        )\n",
    "    ],\n",
    "    questions=[\n",
    "        rg.LabelQuestion(\n",
    "            name=\"sentiment\",\n",
    "            title=\"sentiment\",\n",
    "            description=\"Provide a single label for the sentiment of the text\",\n",
    "            labels=labels,\n",
    "        )\n",
    "    ],\n",
    "    # mapping={\"sentiment\": \"label\"},\n",
    ")\n",
    "\n",
    "dataset_name = f\"pc-component-{uuid4()}\"\n",
    "\n",
    "dataset = rg.Dataset.from_hub(\n",
    "    repo_id=\"argilla/pc-components-reviews\",\n",
    "    name=dataset_name,\n",
    "    split=\"train[:20]\",\n",
    "    client=client,\n",
    "    with_records=True,\n",
    "    settings=settings,\n",
    ")"
   ]
  },
  {
   "cell_type": "code",
   "execution_count": 70,
   "metadata": {},
   "outputs": [
    {
     "data": {
      "text/html": [
       "<pre style=\"white-space:pre;overflow-x:auto;line-height:normal;font-family:Menlo,'DejaVu Sans Mono',consolas,'Courier New',monospace\">DatasetRecords: The provided batch size <span style=\"color: #008080; text-decoration-color: #008080; font-weight: bold\">256</span> was normalized. Using value <span style=\"color: #008080; text-decoration-color: #008080; font-weight: bold\">20</span>.\n",
       "</pre>\n"
      ],
      "text/plain": [
       "DatasetRecords: The provided batch size \u001b[1;36m256\u001b[0m was normalized. Using value \u001b[1;36m20\u001b[0m.\n"
      ]
     },
     "metadata": {},
     "output_type": "display_data"
    },
    {
     "name": "stderr",
     "output_type": "stream",
     "text": [
      "Sending records...: 100%|██████████| 1/1 [00:00<00:00,  3.09batch/s]\n"
     ]
    },
    {
     "data": {
      "text/plain": [
       "DatasetRecords(Dataset(id=UUID('a27327ea-2ee4-4b44-afcb-ed19724a3866') inserted_at=datetime.datetime(2024, 10, 14, 9, 23, 11, 205431) updated_at=datetime.datetime(2024, 10, 14, 9, 23, 11, 818327) name='pc-component-1b5a4aff-9bc9-4b27-8cec-bc21b57b3e34' status='ready' guidelines='Label the sentiment of the text' allow_extra_metadata=False distribution=OverlapTaskDistributionModel(strategy='overlap', min_submitted=1) workspace_id=UUID('108b045c-a82e-4c75-a61b-0cddfb22c4c8') last_activity_at=datetime.datetime(2024, 10, 14, 9, 23, 11, 818327)))"
      ]
     },
     "execution_count": 70,
     "metadata": {},
     "output_type": "execute_result"
    }
   ],
   "source": [
    "## ADD WITHOUT SUGGESTIONS\n",
    "\n",
    "# from datasets import load_dataset\n",
    "\n",
    "# updated_records = []\n",
    "\n",
    "# for sample in load_dataset(\"argilla/pc-components-reviews\", split=\"train[20:40]\"):\n",
    "#     _record = {\n",
    "#         \"text\": sample[\"text\"],\n",
    "#     }\n",
    "#     updated_records.append(_record)\n",
    "\n",
    "# dataset.records.log(updated_records)"
   ]
  },
  {
   "cell_type": "markdown",
   "metadata": {},
   "source": [
    "## Label the datasets\n",
    "\n",
    "We will now label the datasets. We will use the `ArgillaLabeller` class to label the datasets. This class will use  will use a `LlamaCppLLM` LLM to label the datasets. These labels will then be converted into `rg.Suggestion` objects and added to the records. For the sake of the example, we will only label 5 records per time using a while loop that continuesly fetches pending records from Argilla for both datasets and labels them with the LLM. After the labelling, we will update the dataset with the new records."
   ]
  },
  {
   "cell_type": "code",
   "execution_count": 23,
   "metadata": {},
   "outputs": [],
   "source": [
    "from collections import Counter\n",
    "from distilabel.llms.llamacpp import LlamaCppLLM\n",
    "from distilabel.steps.tasks import ArgillaLabeller\n",
    "\n",
    "dataset = client.datasets(name=dataset_name, workspace=\"argilla\")\n",
    "\n",
    "example_records = []\n",
    "\n",
    "counter = Counter()\n",
    "max_samples = 16\n",
    "\n",
    "\n",
    "for record in dataset.records(with_responses=True, with_suggestions=True):\n",
    "    value = record.suggestions[\"sentiment\"].value\n",
    "    counter[value] += 1\n",
    "    if counter[value] > 12:\n",
    "        continue\n",
    "    record.responses.add(\n",
    "        rg.Response(question_name=\"sentiment\", value=value, user_id=client.me)\n",
    "    )\n",
    "    example_records.append(record)"
   ]
  },
  {
   "cell_type": "code",
   "execution_count": null,
   "metadata": {},
   "outputs": [],
   "source": []
  },
  {
   "cell_type": "code",
   "execution_count": 24,
   "metadata": {},
   "outputs": [],
   "source": [
    "example_records = [record.to_dict() for record in example_records]"
   ]
  },
  {
   "cell_type": "code",
   "execution_count": 25,
   "metadata": {},
   "outputs": [
    {
     "data": {
      "text/plain": [
       "20"
      ]
     },
     "execution_count": 25,
     "metadata": {},
     "output_type": "execute_result"
    }
   ],
   "source": [
    "len(example_records)"
   ]
  },
  {
   "cell_type": "code",
   "execution_count": 26,
   "metadata": {},
   "outputs": [],
   "source": [
    "# randomly shuffle the records\n",
    "\n",
    "import random\n",
    "\n",
    "random.shuffle(example_records)"
   ]
  },
  {
   "cell_type": "markdown",
   "metadata": {},
   "source": [
    "# Distilabel can label your records\n",
    "\n",
    "We can use the `process` method of the `ArgillaLabeller` class to label the records. This method will label the records with the LLM and update the records with the new labels. We will use this method to label the records of the datasets."
   ]
  },
  {
   "cell_type": "code",
   "execution_count": 27,
   "metadata": {},
   "outputs": [],
   "source": [
    "from datasets import load_dataset\n",
    "\n",
    "train_dataset = load_dataset(\"argilla/pc-components-reviews\", split=\"train[:20]\")\n",
    "\n",
    "train_dataset = train_dataset.remove_columns(\n",
    "    [col for col in train_dataset.column_names if col not in [\"text\", \"sentiment\"]]\n",
    ")\n",
    "\n",
    "test_dataset = load_dataset(\"argilla/pc-components-reviews\", split=\"train[20:100]\")\n",
    "\n",
    "test_dataset = test_dataset.remove_columns(\n",
    "    [col for col in test_dataset.column_names if col not in [\"text\", \"sentiment\"]]\n",
    ")"
   ]
  },
  {
   "cell_type": "code",
   "execution_count": 28,
   "metadata": {},
   "outputs": [
    {
     "data": {
      "text/html": [
       "<div>\n",
       "<style scoped>\n",
       "    .dataframe tbody tr th:only-of-type {\n",
       "        vertical-align: middle;\n",
       "    }\n",
       "\n",
       "    .dataframe tbody tr th {\n",
       "        vertical-align: top;\n",
       "    }\n",
       "\n",
       "    .dataframe thead th {\n",
       "        text-align: right;\n",
       "    }\n",
       "</style>\n",
       "<table border=\"1\" class=\"dataframe\">\n",
       "  <thead>\n",
       "    <tr style=\"text-align: right;\">\n",
       "      <th></th>\n",
       "      <th>sentiment</th>\n",
       "      <th>text</th>\n",
       "    </tr>\n",
       "  </thead>\n",
       "  <tbody>\n",
       "    <tr>\n",
       "      <th>0</th>\n",
       "      <td>positive</td>\n",
       "      <td>I finally got my hands on the Ryzen 9 7950X an...</td>\n",
       "    </tr>\n",
       "    <tr>\n",
       "      <th>1</th>\n",
       "      <td>positive</td>\n",
       "      <td>I recently bought the Intel Core i5-10400F and...</td>\n",
       "    </tr>\n",
       "    <tr>\n",
       "      <th>2</th>\n",
       "      <td>positive</td>\n",
       "      <td>I just upgraded to the Ryzen 9 5950X and it's ...</td>\n",
       "    </tr>\n",
       "    <tr>\n",
       "      <th>3</th>\n",
       "      <td>positive</td>\n",
       "      <td>I just swapped out my old GPU for the RTX 4070...</td>\n",
       "    </tr>\n",
       "    <tr>\n",
       "      <th>4</th>\n",
       "      <td>negative</td>\n",
       "      <td>I just upgraded to the new Intel Core i9-13900...</td>\n",
       "    </tr>\n",
       "    <tr>\n",
       "      <th>5</th>\n",
       "      <td>neutral</td>\n",
       "      <td>Just got the new Intel Core i9-13900K, and I m...</td>\n",
       "    </tr>\n",
       "    <tr>\n",
       "      <th>6</th>\n",
       "      <td>negative</td>\n",
       "      <td>I just got the new Ryzen 5 5600X and it’s not ...</td>\n",
       "    </tr>\n",
       "    <tr>\n",
       "      <th>7</th>\n",
       "      <td>positive</td>\n",
       "      <td>Just built my new rig with the Ryzen 5 5600X a...</td>\n",
       "    </tr>\n",
       "    <tr>\n",
       "      <th>8</th>\n",
       "      <td>neutral</td>\n",
       "      <td>I recently upgraded my PC with the AMD Ryzen 5...</td>\n",
       "    </tr>\n",
       "    <tr>\n",
       "      <th>9</th>\n",
       "      <td>positive</td>\n",
       "      <td>I just built my first PC with an AMD Ryzen 5 3...</td>\n",
       "    </tr>\n",
       "    <tr>\n",
       "      <th>10</th>\n",
       "      <td>negative</td>\n",
       "      <td>I just installed the new Ryzen 7 5800X and the...</td>\n",
       "    </tr>\n",
       "    <tr>\n",
       "      <th>11</th>\n",
       "      <td>neutral</td>\n",
       "      <td>Hey, I just got the Ryzen 5 3600 and it’s actu...</td>\n",
       "    </tr>\n",
       "    <tr>\n",
       "      <th>12</th>\n",
       "      <td>negative</td>\n",
       "      <td>I just got this new ASUS ROG Strix Z690-E Gami...</td>\n",
       "    </tr>\n",
       "    <tr>\n",
       "      <th>13</th>\n",
       "      <td>neutral</td>\n",
       "      <td>I recently swapped out my old GPU for the NVID...</td>\n",
       "    </tr>\n",
       "    <tr>\n",
       "      <th>14</th>\n",
       "      <td>neutral</td>\n",
       "      <td>The Ryzen 9 5950X really shines in multi-threa...</td>\n",
       "    </tr>\n",
       "    <tr>\n",
       "      <th>15</th>\n",
       "      <td>positive</td>\n",
       "      <td>I just built my new rig with the Ryzen 9 5900X...</td>\n",
       "    </tr>\n",
       "    <tr>\n",
       "      <th>16</th>\n",
       "      <td>negative</td>\n",
       "      <td>I just built my rig with the Ryzen 5 3600 and ...</td>\n",
       "    </tr>\n",
       "    <tr>\n",
       "      <th>17</th>\n",
       "      <td>positive</td>\n",
       "      <td>I just built my new rig with the Ryzen 7 5800X...</td>\n",
       "    </tr>\n",
       "    <tr>\n",
       "      <th>18</th>\n",
       "      <td>neutral</td>\n",
       "      <td>I recently bought an Intel Core i5 for my new ...</td>\n",
       "    </tr>\n",
       "    <tr>\n",
       "      <th>19</th>\n",
       "      <td>positive</td>\n",
       "      <td>I just assembled a system with the Ryzen 9 595...</td>\n",
       "    </tr>\n",
       "  </tbody>\n",
       "</table>\n",
       "</div>"
      ],
      "text/plain": [
       "   sentiment                                               text\n",
       "0   positive  I finally got my hands on the Ryzen 9 7950X an...\n",
       "1   positive  I recently bought the Intel Core i5-10400F and...\n",
       "2   positive  I just upgraded to the Ryzen 9 5950X and it's ...\n",
       "3   positive  I just swapped out my old GPU for the RTX 4070...\n",
       "4   negative  I just upgraded to the new Intel Core i9-13900...\n",
       "5    neutral  Just got the new Intel Core i9-13900K, and I m...\n",
       "6   negative  I just got the new Ryzen 5 5600X and it’s not ...\n",
       "7   positive  Just built my new rig with the Ryzen 5 5600X a...\n",
       "8    neutral  I recently upgraded my PC with the AMD Ryzen 5...\n",
       "9   positive  I just built my first PC with an AMD Ryzen 5 3...\n",
       "10  negative  I just installed the new Ryzen 7 5800X and the...\n",
       "11   neutral  Hey, I just got the Ryzen 5 3600 and it’s actu...\n",
       "12  negative  I just got this new ASUS ROG Strix Z690-E Gami...\n",
       "13   neutral  I recently swapped out my old GPU for the NVID...\n",
       "14   neutral  The Ryzen 9 5950X really shines in multi-threa...\n",
       "15  positive  I just built my new rig with the Ryzen 9 5900X...\n",
       "16  negative  I just built my rig with the Ryzen 5 3600 and ...\n",
       "17  positive  I just built my new rig with the Ryzen 7 5800X...\n",
       "18   neutral  I recently bought an Intel Core i5 for my new ...\n",
       "19  positive  I just assembled a system with the Ryzen 9 595..."
      ]
     },
     "execution_count": 28,
     "metadata": {},
     "output_type": "execute_result"
    }
   ],
   "source": [
    "train_dataset.to_pandas()"
   ]
  },
  {
   "cell_type": "code",
   "execution_count": 29,
   "metadata": {},
   "outputs": [],
   "source": [
    "from distilabel.llms import InferenceEndpointsLLM\n",
    "from huggingface_hub import notebook_login\n",
    "\n",
    "# notebook_login()"
   ]
  },
  {
   "cell_type": "code",
   "execution_count": 30,
   "metadata": {},
   "outputs": [
    {
     "name": "stderr",
     "output_type": "stream",
     "text": [
      "WARNING:distilabel.step.None:Step 'None' hasn't received a pipeline, and it hasn't been created within a `Pipeline` context. Please, use `with Pipeline() as pipeline:` and create the step within the context.\n",
      "WARNING:distilabel.llm.meta-llama/Meta-Llama-3.1-8B-Instruct:Since the `base_url=https://api-inference.huggingface.co/models/meta-llama/Meta-Llama-3.1-8B-Instruct` is available and either one of `model_id` or `endpoint_name` is also provided, the `base_url` will either be ignored or overwritten with the one generated from either of those args, for serverless or dedicated inference endpoints, respectively.\n",
      "WARNING:distilabel.llm.meta-llama/Meta-Llama-3.1-8B-Instruct:Since the `base_url=https://api-inference.huggingface.co/models/meta-llama/Meta-Llama-3.1-8B-Instruct` is available and either one of `model_id` or `endpoint_name` is also provided, the `base_url` will either be ignored or overwritten with the one generated from either of those args, for serverless or dedicated inference endpoints, respectively.\n",
      "WARNING:distilabel.step.None:Step 'None' hasn't received a pipeline, and it hasn't been created within a `Pipeline` context. Please, use `with Pipeline() as pipeline:` and create the step within the context.\n",
      "WARNING:distilabel.llm.meta-llama/Meta-Llama-3.1-8B-Instruct:Since the `base_url=https://api-inference.huggingface.co/models/meta-llama/Meta-Llama-3.1-8B-Instruct` is available and either one of `model_id` or `endpoint_name` is also provided, the `base_url` will either be ignored or overwritten with the one generated from either of those args, for serverless or dedicated inference endpoints, respectively.\n",
      "WARNING:distilabel.llm.meta-llama/Meta-Llama-3.1-8B-Instruct:Since the `base_url=https://api-inference.huggingface.co/models/meta-llama/Meta-Llama-3.1-8B-Instruct` is available and either one of `model_id` or `endpoint_name` is also provided, the `base_url` will either be ignored or overwritten with the one generated from either of those args, for serverless or dedicated inference endpoints, respectively.\n",
      "WARNING:distilabel.step.None:Step 'None' hasn't received a pipeline, and it hasn't been created within a `Pipeline` context. Please, use `with Pipeline() as pipeline:` and create the step within the context.\n",
      "WARNING:distilabel.llm.meta-llama/Meta-Llama-3.1-8B-Instruct:Since the `base_url=https://api-inference.huggingface.co/models/meta-llama/Meta-Llama-3.1-8B-Instruct` is available and either one of `model_id` or `endpoint_name` is also provided, the `base_url` will either be ignored or overwritten with the one generated from either of those args, for serverless or dedicated inference endpoints, respectively.\n",
      "WARNING:distilabel.llm.meta-llama/Meta-Llama-3.1-8B-Instruct:Since the `base_url=https://api-inference.huggingface.co/models/meta-llama/Meta-Llama-3.1-8B-Instruct` is available and either one of `model_id` or `endpoint_name` is also provided, the `base_url` will either be ignored or overwritten with the one generated from either of those args, for serverless or dedicated inference endpoints, respectively.\n",
      "WARNING:distilabel.step.None:Step 'None' hasn't received a pipeline, and it hasn't been created within a `Pipeline` context. Please, use `with Pipeline() as pipeline:` and create the step within the context.\n",
      "WARNING:distilabel.llm.meta-llama/Meta-Llama-3.1-8B-Instruct:Since the `base_url=https://api-inference.huggingface.co/models/meta-llama/Meta-Llama-3.1-8B-Instruct` is available and either one of `model_id` or `endpoint_name` is also provided, the `base_url` will either be ignored or overwritten with the one generated from either of those args, for serverless or dedicated inference endpoints, respectively.\n",
      "WARNING:distilabel.llm.meta-llama/Meta-Llama-3.1-8B-Instruct:Since the `base_url=https://api-inference.huggingface.co/models/meta-llama/Meta-Llama-3.1-8B-Instruct` is available and either one of `model_id` or `endpoint_name` is also provided, the `base_url` will either be ignored or overwritten with the one generated from either of those args, for serverless or dedicated inference endpoints, respectively.\n"
     ]
    }
   ],
   "source": [
    "results_scores = {}\n",
    "max_eval_records = 100\n",
    "\n",
    "for n_samples in [0, 4, 8, 16]:\n",
    "    # Initialize the labeller with the model and fields\n",
    "    labeller = ArgillaLabeller(\n",
    "        llm=InferenceEndpointsLLM(\n",
    "            model_id=\"meta-llama/Meta-Llama-3.1-8B-Instruct\",\n",
    "            tokenizer_id=\"meta-llama/Meta-Llama-3.1-8B-Instruct\",\n",
    "            generation_kwargs={\"max_new_tokens\": 1024 * 4},\n",
    "        ),\n",
    "        example_records=example_records[: n_samples + 1],\n",
    "    )\n",
    "    labeller.load()\n",
    "    predictions = []\n",
    "    true = []\n",
    "    results = labeller.process(\n",
    "        [\n",
    "            {\n",
    "                \"record\": rg.Record(fields={\"text\": sample[\"text\"]}),\n",
    "                \"fields\": dataset.fields,\n",
    "                \"question\": dataset.questions[0],\n",
    "                \"guidelines\": dataset.guidelines,\n",
    "            }\n",
    "            for sample in test_dataset\n",
    "        ]\n",
    "    )\n",
    "    for sample, result in zip(test_dataset, next(results)):\n",
    "        true.append(sample[\"sentiment\"])\n",
    "        if not result[\"suggestion\"]:\n",
    "            predictions.append(None)\n",
    "            continue\n",
    "\n",
    "        suggestion = result[\"suggestion\"][\"value\"]\n",
    "        predictions.append(suggestion)\n",
    "\n",
    "    results_scores[n_samples] = {\"true\": true, \"predictions\": predictions}\n",
    "\n",
    "    del labeller"
   ]
  },
  {
   "cell_type": "code",
   "execution_count": null,
   "metadata": {},
   "outputs": [],
   "source": [
    "llm_results = {}\n",
    "\n",
    "for n_samples, data in results_scores.items():\n",
    "    true = data[\"true\"]\n",
    "    predictions = data[\"predictions\"]\n",
    "\n",
    "    acc = sum([t == p for t, p in zip(true, predictions) if p is not None]) / len(\n",
    "        [p for p in predictions if p is not None]\n",
    "    )\n",
    "\n",
    "    print(f\"Accuracy for {n_samples} samples: {acc}\")\n",
    "    llm_results[n_samples] = {\"accuracy\": acc}\n"
   ]
  },
  {
   "cell_type": "markdown",
   "metadata": {},
   "source": [
    "# SetFit Efficient Classifier"
   ]
  },
  {
   "cell_type": "markdown",
   "metadata": {},
   "source": [
    "Let's make the required imports:"
   ]
  },
  {
   "cell_type": "code",
   "execution_count": 38,
   "metadata": {},
   "outputs": [],
   "source": [
    "from datasets import load_dataset, Dataset\n",
    "from setfit import (\n",
    "    SetFitModel,\n",
    "    Trainer,\n",
    "    get_templated_dataset,\n",
    "    sample_dataset,\n",
    "    TrainingArguments,\n",
    ")"
   ]
  },
  {
   "cell_type": "code",
   "execution_count": 39,
   "metadata": {},
   "outputs": [],
   "source": [
    "train_dataset = train_dataset.rename_column(\"sentiment\", \"label\")\n",
    "test_dataset = test_dataset.rename_column(\"sentiment\", \"label\")"
   ]
  },
  {
   "cell_type": "code",
   "execution_count": 40,
   "metadata": {},
   "outputs": [],
   "source": [
    "def train_model(\n",
    "    model_name,\n",
    "    eval_dataset,\n",
    "    train_dataset=None,\n",
    "):\n",
    "    model = SetFitModel.from_pretrained(model_name)\n",
    "\n",
    "    args = TrainingArguments(\n",
    "        num_epochs=1,\n",
    "        eval_strategy=\"epoch\",\n",
    "        save_strategy=\"epoch\",\n",
    "        load_best_model_at_end=True,\n",
    "    )\n",
    "    if train_dataset is None or len(train_dataset) == 0:\n",
    "        print(\"Sampling dataset for zero shot\")\n",
    "        train_dataset = get_templated_dataset(\n",
    "            candidate_labels=labels,\n",
    "        )\n",
    "        eval_dataset = eval_dataset.map(lambda x: {\"label\": labels.index(x[\"label\"])})\n",
    "\n",
    "    trainer = Trainer(\n",
    "        model=model,\n",
    "        train_dataset=train_dataset,\n",
    "        eval_dataset=eval_dataset,\n",
    "        # args=args,\n",
    "    )\n",
    "\n",
    "    trainer.train()\n",
    "\n",
    "    results = trainer.evaluate()\n",
    "\n",
    "    print(results)\n",
    "\n",
    "    return model, results"
   ]
  },
  {
   "cell_type": "markdown",
   "metadata": {},
   "source": [
    "Let's train the model. We will use `TaylorAI/bge-micro-v2`, available in the [Hugging Face Hub](https://huggingface.co/TaylorAI/bge-micro-v2)."
   ]
  },
  {
   "cell_type": "code",
   "execution_count": 41,
   "metadata": {},
   "outputs": [
    {
     "name": "stderr",
     "output_type": "stream",
     "text": [
      "model_head.pkl not found on HuggingFace Hub, initialising classification head with random weights. You should TRAIN this model on a downstream task to use it for predictions and inference.\n"
     ]
    },
    {
     "name": "stdout",
     "output_type": "stream",
     "text": [
      "Sampling dataset for zero shot\n"
     ]
    },
    {
     "data": {
      "application/vnd.jupyter.widget-view+json": {
       "model_id": "da6b33573257484b95f4b5119eaf574c",
       "version_major": 2,
       "version_minor": 0
      },
      "text/plain": [
       "Map:   0%|          | 0/6 [00:00<?, ? examples/s]"
      ]
     },
     "metadata": {},
     "output_type": "display_data"
    },
    {
     "name": "stderr",
     "output_type": "stream",
     "text": [
      "***** Running training *****\n",
      "  Num unique pairs = 24\n",
      "  Batch size = 16\n",
      "  Num epochs = 1\n"
     ]
    },
    {
     "data": {
      "application/vnd.jupyter.widget-view+json": {
       "model_id": "44e0f7c3c7e447a2b501c473d9f7c820",
       "version_major": 2,
       "version_minor": 0
      },
      "text/plain": [
       "  0%|          | 0/2 [00:00<?, ?it/s]"
      ]
     },
     "metadata": {},
     "output_type": "display_data"
    },
    {
     "name": "stdout",
     "output_type": "stream",
     "text": [
      "{'embedding_loss': 0.2891, 'grad_norm': 1.4333018064498901, 'learning_rate': 2e-05, 'epoch': 0.5}\n"
     ]
    },
    {
     "data": {
      "application/vnd.jupyter.widget-view+json": {
       "model_id": "95efd6758a3f4d8d8a77b3faa1622f99",
       "version_major": 2,
       "version_minor": 0
      },
      "text/plain": [
       "Computing widget examples:   0%|          | 0/1 [00:00<?, ?example/s]"
      ]
     },
     "metadata": {},
     "output_type": "display_data"
    },
    {
     "name": "stderr",
     "output_type": "stream",
     "text": [
      "***** Running evaluation *****\n"
     ]
    },
    {
     "name": "stdout",
     "output_type": "stream",
     "text": [
      "{'train_runtime': 0.3945, 'train_samples_per_second': 60.831, 'train_steps_per_second': 5.069, 'train_loss': 0.2889108806848526, 'epoch': 1.0}\n",
      "{'accuracy': 0.4875}\n"
     ]
    }
   ],
   "source": [
    "model, results = train_model(\n",
    "    model_name=\"TaylorAI/bge-micro-v2\", eval_dataset=test_dataset\n",
    ")"
   ]
  },
  {
   "cell_type": "code",
   "execution_count": 42,
   "metadata": {},
   "outputs": [
    {
     "data": {
      "text/plain": [
       "Dataset({\n",
       "    features: ['label', 'text'],\n",
       "    num_rows: 20\n",
       "})"
      ]
     },
     "execution_count": 42,
     "metadata": {},
     "output_type": "execute_result"
    }
   ],
   "source": [
    "train_dataset"
   ]
  },
  {
   "cell_type": "markdown",
   "metadata": {},
   "source": [
    "You can save it locally or push it to the Hub. And then, load it from there."
   ]
  },
  {
   "cell_type": "code",
   "execution_count": null,
   "metadata": {},
   "outputs": [],
   "source": [
    "results_scores = {}\n",
    "\n",
    "for n_samples in [0, 4, 8, 16]:\n",
    "\n",
    "    _train_dataset = sample_dataset(\n",
    "        dataset=train_dataset, label_column=\"label\", num_samples=n_samples\n",
    "    )\n",
    "    print(f\"Results for {n_samples} samples:\")\n",
    "    model, results = train_model(\n",
    "        model_name=\"TaylorAI/bge-micro-v2\",\n",
    "        train_dataset=_train_dataset,\n",
    "        eval_dataset=test_dataset,\n",
    "    )\n",
    "    results_scores[n_samples] = results"
   ]
  },
  {
   "cell_type": "code",
   "execution_count": 44,
   "metadata": {},
   "outputs": [
    {
     "data": {
      "application/vnd.jupyter.widget-view+json": {
       "model_id": "370203c422754c31bd954010a9aac493",
       "version_major": 2,
       "version_minor": 0
      },
      "text/plain": [
       "Upload 2 LFS files:   0%|          | 0/2 [00:00<?, ?it/s]"
      ]
     },
     "metadata": {},
     "output_type": "display_data"
    },
    {
     "data": {
      "application/vnd.jupyter.widget-view+json": {
       "model_id": "2995c8fe660d41008160fedab6389bba",
       "version_major": 2,
       "version_minor": 0
      },
      "text/plain": [
       "model_head.pkl:   0%|          | 0.00/10.2k [00:00<?, ?B/s]"
      ]
     },
     "metadata": {},
     "output_type": "display_data"
    },
    {
     "data": {
      "application/vnd.jupyter.widget-view+json": {
       "model_id": "a0a02473915c428da53e05af04e4716e",
       "version_major": 2,
       "version_minor": 0
      },
      "text/plain": [
       "model.safetensors:   0%|          | 0.00/69.6M [00:00<?, ?B/s]"
      ]
     },
     "metadata": {},
     "output_type": "display_data"
    },
    {
     "data": {
      "text/plain": [
       "CommitInfo(commit_url='https://huggingface.co/argilla/pc_components_classifier/commit/5c471988d1019eec0ec7f13a076e62b9d3f90c72', commit_message='Push model using huggingface_hub.', commit_description='', oid='5c471988d1019eec0ec7f13a076e62b9d3f90c72', pr_url=None, repo_url=RepoUrl('https://huggingface.co/argilla/pc_components_classifier', endpoint='https://huggingface.co', repo_type='model', repo_id='argilla/pc_components_classifier'), pr_revision=None, pr_num=None)"
      ]
     },
     "execution_count": 44,
     "metadata": {},
     "output_type": "execute_result"
    }
   ],
   "source": [
    "# Save and load locally\n",
    "# model.save_pretrained(\"text_classification_model\")\n",
    "# model = SetFitModel.from_pretrained(\"text_classification_model\")\n",
    "\n",
    "# Push and load in HF\n",
    "\n",
    "model.push_to_hub(repo_id=\"argilla/pc_components_classifier\")"
   ]
  },
  {
   "cell_type": "code",
   "execution_count": 46,
   "metadata": {},
   "outputs": [],
   "source": [
    "import pandas as pd\n",
    "\n",
    "df = pd.DataFrame(results_scores).T\n",
    "\n",
    "df = df.rename(columns={\"accuracy\": \"SetFit-TaylorAI/bge-micro-v2\"})\n",
    "\n",
    "\n",
    "df.at[0, \"LlaMA-3.1-8b-zero-shot\"] = 0.5875\n",
    "df.at[4, \"LlaMA-3.1-8b-zero-shot\"] = 0.6125\n",
    "df.at[8, \"LlaMA-3.1-8b-zero-shot\"] = 0.625\n",
    "df.at[16, \"LlaMA-3.1-8b-zero-shot\"] = 0.765"
   ]
  },
  {
   "cell_type": "code",
   "execution_count": 53,
   "metadata": {},
   "outputs": [
    {
     "data": {
      "text/plain": [
       "<Axes: title={'center': 'Accuracy vs Number of samples'}, xlabel='Number of samples', ylabel='Accuracy'>"
      ]
     },
     "execution_count": 53,
     "metadata": {},
     "output_type": "execute_result"
    },
    {
     "data": {
      "image/png": "[encoded data removed]",
      "text/plain": [
       "<Figure size 1200x600 with 1 Axes>"
      ]
     },
     "metadata": {},
     "output_type": "display_data"
    }
   ],
   "source": [
    "df.plot(\n",
    "    xlabel=\"Number of samples\",\n",
    "    ylabel=\"Accuracy\",\n",
    "    title=\"Accuracy vs Number of samples\",\n",
    "    xticks=[0, 4, 8, 16],\n",
    "    yticks=[0.0, 0.2, 0.4, 0.6, 0.8, 1.0],\n",
    "    color=[\"darkblue\", \"lightcoral\"],\n",
    "    figsize=(12, 6),\n",
    ")"
   ]
  },
  {
   "cell_type": "code",
   "execution_count": null,
   "metadata": {},
   "outputs": [],
   "source": []
  }
 ],
 "metadata": {
  "kernelspec": {
   "display_name": ".venv",
   "language": "python",
   "name": "python3"
  },
  "language_info": {
   "codemirror_mode": {
    "name": "ipython",
    "version": 3
   },
   "file_extension": ".py",
   "mimetype": "text/x-python",
   "name": "python",
   "nbconvert_exporter": "python",
   "pygments_lexer": "ipython3",
   "version": "3.11.9"
  }
 },
 "nbformat": 4,
 "nbformat_minor": 2
}
