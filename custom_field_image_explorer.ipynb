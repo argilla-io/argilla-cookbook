{
 "cells": [
  {
   "cell_type": "code",
   "execution_count": 5,
   "metadata": {},
   "outputs": [],
   "source": [
    "from uuid import uuid4\n",
    "import argilla as rg"
   ]
  },
  {
   "cell_type": "code",
   "execution_count": 4,
   "metadata": {},
   "outputs": [],
   "source": [
    "client = rg.Argilla(api_key=\"argilla.apikey\")"
   ]
  },
  {
   "cell_type": "code",
   "execution_count": 14,
   "metadata": {},
   "outputs": [
    {
     "data": {
      "text/plain": [
       "Dataset(id=UUID('f799355c-cfdc-4e4f-8503-b72b6d71fdfe') inserted_at=datetime.datetime(2024, 10, 8, 10, 40, 56, 285398) updated_at=datetime.datetime(2024, 10, 8, 10, 40, 56, 399979) name='Imagepan-7a32366d-ed6d-4ed9-a73b-e3e93eff2e06' status='ready' guidelines=None allow_extra_metadata=False distribution=OverlapTaskDistributionModel(strategy='overlap', min_submitted=1) workspace_id=UUID('735cae0d-eb08-45c3-ad79-0a11ad4dd2c2') last_activity_at=datetime.datetime(2024, 10, 8, 10, 40, 56, 399979))"
      ]
     },
     "execution_count": 14,
     "metadata": {},
     "output_type": "execute_result"
    }
   ],
   "source": [
    "settings = rg.Settings(\n",
    "    fields=[rg.CustomField(\"custom_field\", template=\"assets/imagepan.html\")],\n",
    "    questions=[rg.RatingQuestion(\"rating\", [0, 1, 2, 3, 4, 5])],\n",
    ")\n",
    "dataset = rg.Dataset(\n",
    "    name=f\"Imagepan-{uuid4()}\",\n",
    "    settings=settings,\n",
    ")\n",
    "dataset.create()"
   ]
  },
  {
   "cell_type": "code",
   "execution_count": 15,
   "metadata": {},
   "outputs": [
    {
     "data": {
      "text/html": [
       "<pre style=\"white-space:pre;overflow-x:auto;line-height:normal;font-family:Menlo,'DejaVu Sans Mono',consolas,'Courier New',monospace\">DatasetRecords: The provided batch size <span style=\"color: #008080; text-decoration-color: #008080; font-weight: bold\">256</span> was normalized. Using value <span style=\"color: #008080; text-decoration-color: #008080; font-weight: bold\">1</span>.\n",
       "</pre>\n"
      ],
      "text/plain": [
       "DatasetRecords: The provided batch size \u001b[1;36m256\u001b[0m was normalized. Using value \u001b[1;36m1\u001b[0m.\n"
      ]
     },
     "metadata": {},
     "output_type": "display_data"
    },
    {
     "name": "stderr",
     "output_type": "stream",
     "text": [
      "Sending records...: 100%|██████████| 1/1 [00:00<00:00, 15.93batch/s]\n"
     ]
    },
    {
     "data": {
      "text/plain": [
       "DatasetRecords(Dataset(id=UUID('f799355c-cfdc-4e4f-8503-b72b6d71fdfe') inserted_at=datetime.datetime(2024, 10, 8, 10, 40, 56, 285398) updated_at=datetime.datetime(2024, 10, 8, 10, 40, 56, 399979) name='Imagepan-7a32366d-ed6d-4ed9-a73b-e3e93eff2e06' status='ready' guidelines=None allow_extra_metadata=False distribution=OverlapTaskDistributionModel(strategy='overlap', min_submitted=1) workspace_id=UUID('735cae0d-eb08-45c3-ad79-0a11ad4dd2c2') last_activity_at=datetime.datetime(2024, 10, 8, 10, 40, 56, 399979)))"
      ]
     },
     "execution_count": 15,
     "metadata": {},
     "output_type": "execute_result"
    }
   ],
   "source": [
    "dataset.records.log(\n",
    "    records=[\n",
    "        {\n",
    "            \"custom_field\": {\n",
    "                \"img\": \"https://www.argilla.io/assets/img/argilla-logo.png\"\n",
    "            },\n",
    "            \"rating\": 5,\n",
    "        }\n",
    "    ]\n",
    ")"
   ]
  },
  {
   "cell_type": "code",
   "execution_count": null,
   "metadata": {},
   "outputs": [],
   "source": []
  }
 ],
 "metadata": {
  "kernelspec": {
   "display_name": ".venv",
   "language": "python",
   "name": "python3"
  },
  "language_info": {
   "codemirror_mode": {
    "name": "ipython",
    "version": 3
   },
   "file_extension": ".py",
   "mimetype": "text/x-python",
   "name": "python",
   "nbconvert_exporter": "python",
   "pygments_lexer": "ipython3",
   "version": "3.12.4"
  }
 },
 "nbformat": 4,
 "nbformat_minor": 2
}
