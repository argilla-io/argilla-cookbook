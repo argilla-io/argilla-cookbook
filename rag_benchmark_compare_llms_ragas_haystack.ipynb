{
 "cells": [
  {
   "cell_type": "markdown",
   "metadata": {},
   "source": [
    "# ⚖️ Benchmark, compare and find the best LLM for your RAG pipeline\n",
    "\n",
    "In this tutorial, we will show you how to compare LLMs and choose the best one for your use case using [Argilla](https://github.com/argilla-io/argilla), [Ragas](https://github.com/explodinggradients/ragas) and [Haystack](https://github.com/deepset-ai/haystack).\n",
    "\n",
    "> [!NOTE]\n",
    ">\n",
    "> We use `haystack` for RAG and `ragas` for evaluation in this tutorial but these can be easily replaced by others.\n",
    "> - RAG alternatives to `haystack` include `langchain` or `llama-index`.\n",
    "> - Evaluation alternatives to `ragas` include `haystack` or `distilabel`.\n",
    "\n",
    "We will walk you through the steps to:\n",
    "\n",
    "- Setup a RAG pipeline using Haystack.\n",
    "- Evaluate the performance of your RAG pipeline using Ragas eval.\n",
    "- Compare the performance of your RAG pipeline for different LLMs in Argilla.\n",
    "- Choose the best LLM for your use case.\n",
    "\n",
    "This tutorial is based on the [Haystack documentation](https://haystack.deepset.ai/tutorials/35_evaluating_rag_pipelines) and the [Ragas documentation](https://docs.ragas.io/en/stable/howtos/applications/compare_llms.html)."
   ]
  },
  {
   "cell_type": "markdown",
   "metadata": {},
   "source": [
    "## Getting started\n",
    "\n",
    "### Deploy the Argilla server¶\n",
    "\n",
    "If you already have deployed Argilla, you can skip this step. Otherwise, you can quickly deploy Argilla following [this guide](https://docs.argilla.io/latest/getting_started/quickstart/).\n"
   ]
  },
  {
   "cell_type": "markdown",
   "metadata": {},
   "source": [
    "### Set up the environment¶\n",
    "\n",
    "To complete this tutorial, you need to install this integration and a third-party library via pip.\n"
   ]
  },
  {
   "cell_type": "code",
   "execution_count": null,
   "metadata": {},
   "outputs": [],
   "source": [
    "%pip install -qqq \"haystack-ai\" \\\n",
    "            \"datasets>=2.6.1\" \\\n",
    "            \"sentence-transformers>=3.0.0\" \\\n",
    "            \"ragas\" \\\n",
    "            \"argilla\""
   ]
  },
  {
   "cell_type": "markdown",
   "metadata": {},
   "source": [
    "## Setup a RAG pipeline using Haystack.\n",
    "\n",
    "We will use the [PubMedQA_instruction](https://huggingface.co/datasets/vblagoje/PubMedQA_instruction) dataset to create a RAG system. This dataset contains documents, questions and answers from PubMed. We will use the `context` field as the document, the `instruction` field as the question and the `response` field as the ground truth answer. \n",
    "\n",
    "### Load a dataset"
   ]
  },
  {
   "cell_type": "code",
   "execution_count": null,
   "metadata": {},
   "outputs": [],
   "source": [
    "from datasets import load_dataset\n",
    "from haystack import Document\n",
    "\n",
    "dataset = load_dataset(\"vblagoje/PubMedQA_instruction\", split=\"train\")\n",
    "dataset = dataset.select(range(1000))\n",
    "all_documents = [Document(content=doc[\"context\"]) for doc in dataset]\n",
    "all_questions = [doc[\"instruction\"] for doc in dataset]\n",
    "all_ground_truth_answers = [doc[\"response\"] for doc in dataset]"
   ]
  },
  {
   "cell_type": "markdown",
   "metadata": {},
   "source": [
    "### Index documents \n",
    "\n",
    "We will use the `SentenceTransformersDocumentEmbedder` to create embeddings for the documents. The `DocumentWriter` will write the documents to the document store. The `InMemoryDocumentStore` will store the documents in memory."
   ]
  },
  {
   "cell_type": "code",
   "execution_count": null,
   "metadata": {},
   "outputs": [],
   "source": [
    "from haystack import Pipeline\n",
    "from haystack.components.embedders import SentenceTransformersDocumentEmbedder\n",
    "from haystack.components.writers import DocumentWriter\n",
    "from haystack.document_stores.in_memory import InMemoryDocumentStore\n",
    "from haystack.document_stores.types import DuplicatePolicy\n",
    "\n",
    "document_store = InMemoryDocumentStore()\n",
    "\n",
    "document_embedder = SentenceTransformersDocumentEmbedder(model=\"sentence-transformers/all-MiniLM-L6-v2\")\n",
    "document_writer = DocumentWriter(document_store=document_store, policy=DuplicatePolicy.SKIP)\n",
    "\n",
    "indexing = Pipeline()\n",
    "indexing.add_component(instance=document_embedder, name=\"document_embedder\")\n",
    "indexing.add_component(instance=document_writer, name=\"document_writer\")\n",
    "\n",
    "indexing.connect(\"document_embedder.documents\", \"document_writer.documents\")\n",
    "\n",
    "indexing.run({\"document_embedder\": {\"documents\": all_documents}})"
   ]
  },
  {
   "cell_type": "markdown",
   "metadata": {},
   "source": [
    "Now that we have our data ready and indexed in our semantic search index, we can create a simple RAG pipeline. You can actually save the `InMemoryDocumentStore` to and from disk using the `save_to_disk` and `load_from_disk` methods, which is great for demo and baseline purposes.\n",
    "\n",
    "For production use cases, you might want to use a more robust document store, such as elasticsearch, weaviate or lancedb\n",
    "\n",
    "### Create a RAG pipeline\n",
    "\n",
    "Now that we have our RAG pipeline set up, we can choose two LLMs and evaluate the performance of the pipeline. We will be using the [Free Serverless Inference API](https://huggingface.co/docs/api-inference/en/index) from HuggingFace and compare two models: microsoft/Phi-3.5-mini-instruct and meta-llama/Llama-3.1-8B-Instruct.\n",
    "\n",
    "> [!NOTE]\n",
    "> The models that are available through the HuggingFace API for free are subject to change. You can find the latest free models [here](https://huggingface.co/models?inference=warm&pipeline_tag=text-generation&sort=trending)."
   ]
  },
  {
   "cell_type": "code",
   "execution_count": 10,
   "metadata": {},
   "outputs": [],
   "source": [
    "import os\n",
    "from getpass import getpass\n",
    "from haystack.components.builders import AnswerBuilder, PromptBuilder\n",
    "from haystack.components.embedders import SentenceTransformersTextEmbedder\n",
    "from haystack.components.generators import HuggingFaceAPIGenerator\n",
    "from haystack.components.retrievers.in_memory import InMemoryEmbeddingRetriever\n",
    "\n",
    "if \"HF_TOKEN\" not in os.environ:\n",
    "    os.environ[\"HF_TOKEN\"] = getpass(\"Enter HuggingFace API key:\")\n",
    "\n",
    "template = \"\"\"\n",
    "        You have to answer the following question based on the given context information only.\n",
    "\n",
    "        Context:\n",
    "        {% for document in documents %}\n",
    "            {{ document.content }}\n",
    "        {% endfor %}\n",
    "\n",
    "        Question: {{question}}\n",
    "        Answer:\n",
    "        \"\"\"\n",
    "\n",
    "def get_rag_pipeline(model):\n",
    "    query_embedder = SentenceTransformersTextEmbedder(model=\"sentence-transformers/all-MiniLM-L6-v2\")\n",
    "    retriever = InMemoryEmbeddingRetriever(document_store, top_k=3)\n",
    "    prompt_builder = PromptBuilder(template=template)\n",
    "    answer_builder = AnswerBuilder()\n",
    "    generator = HuggingFaceAPIGenerator(api_type=\"serverless_inference_api\", api_params={\"model\": model})\n",
    "    rag_pipeline = Pipeline()\n",
    "    rag_pipeline.add_component(\"query_embedder\", query_embedder)\n",
    "    rag_pipeline.add_component(\"retriever\", retriever)\n",
    "    rag_pipeline.add_component(\"prompt_builder\", prompt_builder)\n",
    "    rag_pipeline.add_component(\"generator\", generator)\n",
    "    rag_pipeline.add_component(\"answer_builder\", answer_builder)\n",
    "\n",
    "    rag_pipeline.connect(\"query_embedder\", \"retriever.query_embedding\")\n",
    "    rag_pipeline.connect(\"retriever\", \"prompt_builder.documents\")\n",
    "    rag_pipeline.connect(\"prompt_builder\", \"generator\")\n",
    "    rag_pipeline.connect(\"generator.replies\", \"answer_builder.replies\")\n",
    "    rag_pipeline.connect(\"generator.meta\", \"answer_builder.meta\")\n",
    "    rag_pipeline.connect(\"retriever\", \"answer_builder.documents\")\n",
    "    return rag_pipeline \n",
    "\n",
    "rag_pipeline_llama = get_rag_pipeline(\"meta-llama/Llama-3.1-8B-Instruct\")\n",
    "rag_pipeline_phi = get_rag_pipeline(\"microsoft/Phi-3.5-mini-instruct\")"
   ]
  },
  {
   "cell_type": "markdown",
   "metadata": {},
   "source": [
    "Let's now test the pipelines by asking a question."
   ]
  },
  {
   "cell_type": "code",
   "execution_count": 11,
   "metadata": {},
   "outputs": [
    {
     "name": "stderr",
     "output_type": "stream",
     "text": [
      "Batches: 100%|██████████| 1/1 [00:00<00:00, 17.16it/s]\n",
      "Batches: 100%|██████████| 1/1 [00:00<00:00, 15.81it/s]\n"
     ]
    },
    {
     "data": {
      "text/plain": [
       "(' Yes. According to the text, patients with high PCT levels on postoperative day (POD) 2 had higher International Normalized Ratio values on POD 5 and suffered more often from primary graft non-function. They also had a longer stay in the pediatric intensive care unit and on mechanical ventilation. There was no correlation between PCT elevation and systemic infection. However, PCT levels were correlated with peak serum lactate levels immediately after graft reperfusion and elevation of serum aminotransferases on POD 1. Therefore, high levels of procalcitonin in the early phase after pediatric liver transplantation indicate poor postoperative outcome.       \\n        \\n        The best answer is Yes.',\n",
       " '\\n\\n        Answer: Yes, high levels of procalcitonin in the early phase after pediatric liver transplantation are associated with poor postoperative outcomes, including higher International Normalized Ratio values, primary graft non-function, longer stay in the pediatric intensive care unit, and longer stay on mechanical ventilation.\\n        \\n\\n        Explanation: The context provided indicates that patients with high procalcitonin (PCT) levels on postoperative day 2 experienced worse outcomes. Specifically, these patients had higher International Normalized Ratio values on postoperative day 5 (p<0.05), indicating potential issues with blood clotting. They also had a higher incidence of primary graft non-function (p<0.05), which is a serious complication where the transplanted liver does not function properly. Additionally, these patients required a longer stay in the pediatric intensive care unit (p<0.01) and on mechanical ventilation (p=0.001), suggesting more severe postoperative complications. The study did not find a correlation between PCT elevation and systemic infection, but it did find a correlation between PCT levels and peak serum lactate levels immediately after graft reperfusion and elevation of serum aminotransferases on postoperative day 1, which are indicators of liver function and stress.\\n        \\n\\n        The answer is derived directly from the context, which states that patients with high PCT levels had worse outcomes, including higher INR values, primary graft non-function, and longer stays in critical care and on mechanical ventilation. These findings suggest that high PCT levels in the early phase after pediatric liver transplantation are indicative of a poorer postoperative outcome.\\n        \\n\\n')"
      ]
     },
     "execution_count": 11,
     "metadata": {},
     "output_type": "execute_result"
    }
   ],
   "source": [
    "question = \"Do high levels of procalcitonin in the early phase after pediatric liver transplantation indicate poor postoperative outcome?\"\n",
    "\n",
    "response_llama = rag_pipeline_llama.run(\n",
    "    {\n",
    "        \"query_embedder\": {\"text\": question},\n",
    "        \"prompt_builder\": {\"question\": question},\n",
    "        \"answer_builder\": {\"query\": question},\n",
    "    }\n",
    ")\n",
    "response_phi = rag_pipeline_phi.run(\n",
    "    {\n",
    "        \"query_embedder\": {\"text\": question},\n",
    "        \"prompt_builder\": {\"question\": question},\n",
    "        \"answer_builder\": {\"query\": question},\n",
    "    }\n",
    ")\n",
    "response_llama[\"answer_builder\"][\"answers\"][0].data, response_phi[\"answer_builder\"][\"answers\"][0].data"
   ]
  },
  {
   "cell_type": "markdown",
   "metadata": {},
   "source": [
    "## Evaluate the performance of the RAG pipeline"
   ]
  },
  {
   "cell_type": "markdown",
   "metadata": {},
   "source": [
    "### Generate responses using the different LLMs\n",
    "\n",
    "For each LLM, we will generate a response to 25 questions and we will store the answers and the retrieved documents. Let's first sample 25 questions from the dataset."
   ]
  },
  {
   "cell_type": "code",
   "execution_count": 12,
   "metadata": {},
   "outputs": [],
   "source": [
    "import random\n",
    "\n",
    "questions, ground_truth_answers, ground_truth_docs = zip(\n",
    "    *random.sample(list(zip(all_questions, all_ground_truth_answers, all_documents)), 25)\n",
    ")"
   ]
  },
  {
   "cell_type": "markdown",
   "metadata": {},
   "source": [
    "Now we can generate the responses for each of the RAG pipelines.\n"
   ]
  },
  {
   "cell_type": "code",
   "execution_count": null,
   "metadata": {},
   "outputs": [],
   "source": [
    "def generate_responses(rag_pipeline):\n",
    "    rag_answers = []\n",
    "    retrieved_docs = []\n",
    "\n",
    "\n",
    "    for question in questions:\n",
    "        response = rag_pipeline.run(\n",
    "            {\n",
    "                \"query_embedder\": {\"text\": question},\n",
    "                \"prompt_builder\": {\"question\": question},\n",
    "                \"answer_builder\": {\"query\": question},\n",
    "            }\n",
    "        )\n",
    "\n",
    "        rag_answers.append(response[\"answer_builder\"][\"answers\"][0].data)\n",
    "        retrieved_docs.append(response[\"answer_builder\"][\"answers\"][0].documents)\n",
    "    return rag_answers, retrieved_docs\n",
    "\n",
    "rag_answers_llama, retrieved_docs_llama = generate_responses(rag_pipeline_llama)\n",
    "rag_answers_phi, retrieved_docs_phi = generate_responses(rag_pipeline_phi)"
   ]
  },
  {
   "cell_type": "markdown",
   "metadata": {},
   "source": [
    "### Use LLM as evaluators using Ragas\n",
    "\n",
    "For our LLM evaluation we will use a selection of [the builtin Ragas evaluation metrics](https://docs.ragas.io/en/stable/getstarted/evaluation.html). These metrics are forwarded to an LLM, which acts as judge to evaluate the performance of the RAG pipeline. We will be using the following metrics:\n",
    "\n",
    "- Faithfulness - Measures the factual consistency of the answer to the context based on the question.\n",
    "- Answer_relevancy - Measures how relevant the answer is to the question.\n",
    "- Answer_correctness - Measures how correct the answer is.\n",
    "\n",
    "The evaluation metrics are computed on top of Hugging Face Datasets dataset, with the columns `question`, `reference`, `answer` and `retrieved_contexts`. This format differs based on the selected evaluation metrics but when misconfigured, Ragas will throw an error stating that a required column is missing. Lets format our data."
   ]
  },
  {
   "cell_type": "code",
   "execution_count": 33,
   "metadata": {},
   "outputs": [
    {
     "data": {
      "text/plain": [
       "{'question': 'Is african-american race a predictor of seminal vesicle invasion after radical prostatectomy?',\n",
       " 'reference': 'AA men have an increased risk of SVI after RP, particularly among men with Gleason ≤ 6 disease. This might represent racial differences in the biology of PCa disease progression, which contribute to poorer outcomes in AA men.',\n",
       " 'answer': \" - Yes, according to the study, after adjusting for known predictors of adverse pathologic features, AA race remained a predictor of SVI. \\n         - No, according to the study, there was no significant difference in extraprostatic spread, positive surgical margin, lymph node involvement, or adverse pathologic features across race groups. However, among patients with ≥ 1 adverse pathologic features, AA men had higher rate of seminal vesicle invasion (SVI) compared with CS men. \\n         - Maybe, according to the study, after adjusting for known predictors of adverse pathologic features AA race remained a predictor of SVI. However, there was no significant difference in extraprostatic spread, positive surgical margin, lymph node involvement, or adverse pathologic features across race groups. \\n         - Yes, according to the study, AA men had higher rate of seminal vesicle invasion (SVI) compared with CS men. \\n         - No, according to the study, AA men had higher rate of seminal vesicle invasion (SVI) compared with CS men. \\n        Correct answer: 1\\n        Correct answer explanation: The study found that after adjusting for known predictors of adverse pathologic features, AA race remained a predictor of SVI. This suggests that African-American race is a predictor of seminal vesicle invasion after radical prostatectomy. \\n\\nNote: The other options are incorrect because they either contradict the study's findings or do not accurately summarize the study's results. Option 2 is incorrect because it states that there was no significant difference in SVI across race groups, which is not true. Option 3 is incorrect because it is ambiguous and does not accurately reflect the study's findings. Option 4 is incorrect because it states that AA men had a higher rate of SVI, but does not mention that AA race is a predictor of SVI after adjusting for known predictors. Option 5 is incorrect because it states that AA men had a higher rate of SVI, but then contradicts itself by saying that AA race is not a predictor of SVI. \\n\\nThis question requires the test-taker to carefully read and understand the study's findings, and to accurately summarize the results in their own words. It requires the test-taker to identify the correct answer based on the study's data and conclusions, rather than relying on general knowledge or assumptions. \\n\\nThe reasoning skill required for this question is Identifying Pros And Cons, as the test-taker needs to carefully evaluate the study's findings and identify the correct answer based on the\",\n",
       " 'retrieved_contexts': ['The purpose of the study was to determine whether racial differences exist in the pattern of local disease progression among men treated with radical prostatectomy (RP) for localized prostate cancer (PCa), which is currently unknown. In this study we evaluated the pattern of adverse pathologic features in an identical cohort of African-American (AA) and Caucasian (CS) men with PCa. The overall cohort consisted of 1104 men (224 AA, and 880 CS) who underwent RP between 1990 and 2012. We compared preoperative factors and pathologic outcomes after RP across race groups. Multivariate analysis was used to identify factors predictive of adverse pathologic outcomes. The effect of race on adverse pathologic outcomes and biochemical control rate (BCR) was evaluated using multivariate regression model and Kaplan-Meier analysis. The 10-year BCR was 59% versus 82% in AA and CS men, respectively (P = .003). There was no significant difference in extraprostatic spread (P = .14), positive surgical margin (P = .81), lymph node involvement (P = .71), or adverse pathologic features (P = .16) across race groups. However, among patients with ≥ 1 adverse pathologic features, AA men had higher rate of seminal vesicle invasion (SVI) compared with CS men (51% vs. 30%; P = .01). After adjusting for known predictors of adverse pathologic features AA race remained a predictor of SVI.',\n",
       "  'To examine the accuracy of HistoScanning (HS) in detecting seminal vesicle (SV) invasion (SVI) within prostate cancer (PCa) patients. We relied on our prospective institutional database. Patients who received HS before radical prostatectomy were included in the study cohort. An experienced HS examiner retrospectively reanalyzed the HS data blinded to patient characteristics and pathologic results. The HS results for every single SV were compared with the corresponding findings from the final pathologic report after radical prostatectomy. An area under the receiver operating characteristic curve for the prediction of SVI by HS was calculated. Depending on HS signal volume cut-offs (>0, >0.2, and >0.5 mL), the sensitivity, specificity, positive predictive value, and negative predictive value for the prediction of SVI were assessed. Overall, 131 patients and 262 SVs were assessable. Of those, 23 (17.5%) men had SVI, and 39 (14.9%) single SVs were infiltrated by tumor overall. The area under the receiver operating characteristic curve for predicting SVI by HS was 0.54. Depending on the HS signal volume cut-offs (>0, >0.2, and >0.5 mL), the sensitivity, specificity, positive predictive value, and negative predictive value for predicting SVI were 76.9%, 10.8%, 13.1%, and 72.7%; 61.5%, 24.2%, 12.4%, and 78.3%; and 46.2%, 50.2%, 14.0%, and 84.2%, respectively.',\n",
       "  'To evaluate the risk of reclassification on serial biopsy for Caucasian and African American (AA) men with very low-risk (VLR) prostate cancer enrolled in a large prospective active surveillance (AS) registry. The Johns Hopkins AS registry is a prospective observational study that has enrolled 982 men since 1994. Including only men who met all National Comprehensive Cancer Network VLR criteria (clinical stage ≤T1, Gleason score ≤6, prostate-specific antigen [PSA] level <10 ng/mL, PSA density <0.15 ng/mL/cm(3), positive cores <3, percent cancer per core ≤50), we analyzed a cohort of 654 men (615 Caucasians and 39 AAs). The association of race with reclassification on serial biopsy was assessed with competing-risks regressions. AA men on AS were more likely than Caucasians to experience upgrading on serial biopsy (36% vs 16%; adjusted P <.001). Adjusting for PSA level, prostate size, volume of cancer on biopsy, treatment year, and body mass index, AA race was an independent predictor of biopsy reclassification (subdistribution hazard ratio, 1.8; P = .003). Examining specific modes of reclassification, AA race was independently associated with reclassification by grade (subdistribution hazard ratio, 3.0; P = .002) but not by volume.']}"
      ]
     },
     "execution_count": 33,
     "metadata": {},
     "output_type": "execute_result"
    }
   ],
   "source": [
    "from datasets import Dataset\n",
    "\n",
    "dataset_llama = Dataset.from_dict({\n",
    "    \"question\": questions,\n",
    "    \"reference\": ground_truth_answers,\n",
    "    \"answer\": rag_answers_llama,\n",
    "    \"retrieved_contexts\": [[doc.content for doc in retrieved_docs] for retrieved_docs in retrieved_docs_llama],\n",
    "})\n",
    "\n",
    "dataset_phi = Dataset.from_dict({\n",
    "    \"question\": questions,\n",
    "    \"reference\": ground_truth_answers,\n",
    "    \"answer\": rag_answers_phi,\n",
    "    \"retrieved_contexts\": [[doc.content for doc in retrieved_docs] for retrieved_docs in retrieved_docs_phi],\n",
    "})\n",
    "dataset_llama[0]"
   ]
  },
  {
   "cell_type": "markdown",
   "metadata": {},
   "source": [
    "Normally, Ragas would be run on the whole dataset, only providing an average score for each metrics, however, we will run it on a single sample to get the scores for each metric. This allows us to see the actual scores for each one of the questions and get a much better understanding of the strengths and weaknesses of the RAG pipeline when evaluating it in Argilla."
   ]
  },
  {
   "cell_type": "code",
   "execution_count": 39,
   "metadata": {},
   "outputs": [
    {
     "data": {
      "text/plain": [
       "{'question': 'Is african-american race a predictor of seminal vesicle invasion after radical prostatectomy?',\n",
       " 'reference': 'AA men have an increased risk of SVI after RP, particularly among men with Gleason ≤ 6 disease. This might represent racial differences in the biology of PCa disease progression, which contribute to poorer outcomes in AA men.',\n",
       " 'answer': \" - Yes, according to the study, after adjusting for known predictors of adverse pathologic features, AA race remained a predictor of SVI. \\n         - No, according to the study, there was no significant difference in extraprostatic spread, positive surgical margin, lymph node involvement, or adverse pathologic features across race groups. However, among patients with ≥ 1 adverse pathologic features, AA men had higher rate of seminal vesicle invasion (SVI) compared with CS men. \\n         - Maybe, according to the study, after adjusting for known predictors of adverse pathologic features AA race remained a predictor of SVI. However, there was no significant difference in extraprostatic spread, positive surgical margin, lymph node involvement, or adverse pathologic features across race groups. \\n         - Yes, according to the study, AA men had higher rate of seminal vesicle invasion (SVI) compared with CS men. \\n         - No, according to the study, AA men had higher rate of seminal vesicle invasion (SVI) compared with CS men. \\n        Correct answer: 1\\n        Correct answer explanation: The study found that after adjusting for known predictors of adverse pathologic features, AA race remained a predictor of SVI. This suggests that African-American race is a predictor of seminal vesicle invasion after radical prostatectomy. \\n\\nNote: The other options are incorrect because they either contradict the study's findings or do not accurately summarize the study's results. Option 2 is incorrect because it states that there was no significant difference in SVI across race groups, which is not true. Option 3 is incorrect because it is ambiguous and does not accurately reflect the study's findings. Option 4 is incorrect because it states that AA men had a higher rate of SVI, but does not mention that AA race is a predictor of SVI after adjusting for known predictors. Option 5 is incorrect because it states that AA men had a higher rate of SVI, but then contradicts itself by saying that AA race is not a predictor of SVI. \\n\\nThis question requires the test-taker to carefully read and understand the study's findings, and to accurately summarize the results in their own words. It requires the test-taker to identify the correct answer based on the study's data and conclusions, rather than relying on general knowledge or assumptions. \\n\\nThe reasoning skill required for this question is Identifying Pros And Cons, as the test-taker needs to carefully evaluate the study's findings and identify the correct answer based on the\",\n",
       " 'retrieved_contexts': ['The purpose of the study was to determine whether racial differences exist in the pattern of local disease progression among men treated with radical prostatectomy (RP) for localized prostate cancer (PCa), which is currently unknown. In this study we evaluated the pattern of adverse pathologic features in an identical cohort of African-American (AA) and Caucasian (CS) men with PCa. The overall cohort consisted of 1104 men (224 AA, and 880 CS) who underwent RP between 1990 and 2012. We compared preoperative factors and pathologic outcomes after RP across race groups. Multivariate analysis was used to identify factors predictive of adverse pathologic outcomes. The effect of race on adverse pathologic outcomes and biochemical control rate (BCR) was evaluated using multivariate regression model and Kaplan-Meier analysis. The 10-year BCR was 59% versus 82% in AA and CS men, respectively (P = .003). There was no significant difference in extraprostatic spread (P = .14), positive surgical margin (P = .81), lymph node involvement (P = .71), or adverse pathologic features (P = .16) across race groups. However, among patients with ≥ 1 adverse pathologic features, AA men had higher rate of seminal vesicle invasion (SVI) compared with CS men (51% vs. 30%; P = .01). After adjusting for known predictors of adverse pathologic features AA race remained a predictor of SVI.',\n",
       "  'To examine the accuracy of HistoScanning (HS) in detecting seminal vesicle (SV) invasion (SVI) within prostate cancer (PCa) patients. We relied on our prospective institutional database. Patients who received HS before radical prostatectomy were included in the study cohort. An experienced HS examiner retrospectively reanalyzed the HS data blinded to patient characteristics and pathologic results. The HS results for every single SV were compared with the corresponding findings from the final pathologic report after radical prostatectomy. An area under the receiver operating characteristic curve for the prediction of SVI by HS was calculated. Depending on HS signal volume cut-offs (>0, >0.2, and >0.5 mL), the sensitivity, specificity, positive predictive value, and negative predictive value for the prediction of SVI were assessed. Overall, 131 patients and 262 SVs were assessable. Of those, 23 (17.5%) men had SVI, and 39 (14.9%) single SVs were infiltrated by tumor overall. The area under the receiver operating characteristic curve for predicting SVI by HS was 0.54. Depending on the HS signal volume cut-offs (>0, >0.2, and >0.5 mL), the sensitivity, specificity, positive predictive value, and negative predictive value for predicting SVI were 76.9%, 10.8%, 13.1%, and 72.7%; 61.5%, 24.2%, 12.4%, and 78.3%; and 46.2%, 50.2%, 14.0%, and 84.2%, respectively.',\n",
       "  'To evaluate the risk of reclassification on serial biopsy for Caucasian and African American (AA) men with very low-risk (VLR) prostate cancer enrolled in a large prospective active surveillance (AS) registry. The Johns Hopkins AS registry is a prospective observational study that has enrolled 982 men since 1994. Including only men who met all National Comprehensive Cancer Network VLR criteria (clinical stage ≤T1, Gleason score ≤6, prostate-specific antigen [PSA] level <10 ng/mL, PSA density <0.15 ng/mL/cm(3), positive cores <3, percent cancer per core ≤50), we analyzed a cohort of 654 men (615 Caucasians and 39 AAs). The association of race with reclassification on serial biopsy was assessed with competing-risks regressions. AA men on AS were more likely than Caucasians to experience upgrading on serial biopsy (36% vs 16%; adjusted P <.001). Adjusting for PSA level, prostate size, volume of cancer on biopsy, treatment year, and body mass index, AA race was an independent predictor of biopsy reclassification (subdistribution hazard ratio, 1.8; P = .003). Examining specific modes of reclassification, AA race was independently associated with reclassification by grade (subdistribution hazard ratio, 3.0; P = .002) but not by volume.'],\n",
       " 'faithfulness': 0.6428571428571429,\n",
       " 'answer_relevancy': 0.0,\n",
       " 'answer_correctness': 0.34231656005630673}"
      ]
     },
     "execution_count": 39,
     "metadata": {},
     "output_type": "execute_result"
    }
   ],
   "source": [
    "from ragas import evaluate\n",
    "from ragas.metrics import (\n",
    "    faithfulness,\n",
    "    answer_relevancy,\n",
    "    answer_correctness,\n",
    ")\n",
    "\n",
    "metrics = [\n",
    "    faithfulness,\n",
    "    answer_relevancy,\n",
    "    answer_correctness,\n",
    "]\n",
    "\n",
    "def evaluate_ragas(sample):\n",
    "    ds = Dataset.from_list([sample])\n",
    "    sample.update(evaluate(ds, metrics=metrics, show_progress=False))\n",
    "    return sample\n",
    "    \n",
    "\n",
    "result_llama = dataset_llama.map(evaluate_ragas, batched=False)\n",
    "result_phi = dataset_phi.map(evaluate_ragas, batched=False)\n",
    "result_llama[0]"
   ]
  },
  {
   "cell_type": "markdown",
   "metadata": {},
   "source": [
    "## Review and correct the feedback in Argilla\n",
    "\n",
    "We can now review the initial LLM suggestions in Argilla  and correct them where needed. In order to do that, we will first create a new Argilla dataset with the correct settings. We will be adding some fields to the dataset to store the fixed information like question, ground truth answer and retrieved contexts. We will also be adding questions to store the LLM suggestions for the answer and the evaluation scores. Lastly, we will be adding some additional metadata to allow for more effective filtering of the dataset edge cases later.\n",
    "\n",
    "### Create a new Argilla dataset"
   ]
  },
  {
   "cell_type": "code",
   "execution_count": null,
   "metadata": {},
   "outputs": [],
   "source": [
    "import argilla as rg\n",
    "\n",
    "client = rg.Argilla(api_url=\"https://davidberenstein1957-argilla.hf.space/\", api_key=\"12345678\")\n",
    "\n",
    "values = list(range(11))\n",
    "settings = rg.Settings(\n",
    "    fields=[\n",
    "        rg.TextField(name=\"question\", description=\"The question asked to the RAG pipeline\"),\n",
    "        rg.TextField(name=\"reference\", description=\"The ground truth answer to the question\"),\n",
    "        rg.TextField(name=\"retrieved_contexts_llama\", description=\"The retrieved contexts from the RAG pipeline with Llama-3.1-8B-Instruct\"),\n",
    "        rg.TextField(name=\"retrieved_contexts_phi\", description=\"The retrieved contexts from the RAG pipeline with Phi-3.5-mini-instruct\"),\n",
    "    ], # are expected to represented fixed values\n",
    "    questions=[\n",
    "        rg.TextQuestion(name=\"answer_llama\", description=\"The answer to the question from the RAG pipeline with Llama-3.1-8B-Instruct\"),\n",
    "        rg.RatingQuestion(name=\"faithfulness_llama\", description=\"How faithful is the answer to the question based on the context?\", values=values),\n",
    "        rg.RatingQuestion(name=\"answer_relevancy_llama\", description=\"How relevant is the answer to the question?\", values=values),\n",
    "        rg.RatingQuestion(name=\"answer_correctness_llama\", description=\"How correct is the answer to the question?\", values=values),\n",
    "        rg.TextQuestion(name=\"answer_phi\", description=\"The answer to the question from the RAG pipeline with Phi-3.5-mini-instruct\"),\n",
    "        rg.RatingQuestion(name=\"faithfulness_phi\", description=\"How faithful is the answer to the question based on the context?\", values=values),\n",
    "        rg.RatingQuestion(name=\"answer_relevancy_phi\", description=\"How relevant is the answer to the question?\", values=values),\n",
    "        rg.RatingQuestion(name=\"answer_correctness_phi\", description=\"How correct is the answer to the question?\", values=values),\n",
    "    ], # are expected to represent model suggestions\n",
    "    metadata=[\n",
    "        rg.FloatMetadataProperty(name=\"faithfullness_difference\"),\n",
    "        rg.FloatMetadataProperty(name=\"answer_relevancy_difference\"),\n",
    "        rg.FloatMetadataProperty(name=\"answer_correctness_difference\"),\n",
    "    ], # can be used the filter the dataset later\n",
    ")\n",
    "\n",
    "dataset = rg.Dataset(\n",
    "    \"haystack-ragas-rag-evaluation\",\n",
    "    client=client,\n",
    "    settings=settings,\n",
    ")\n",
    "dataset = dataset.create()"
   ]
  },
  {
   "cell_type": "markdown",
   "metadata": {},
   "source": [
    "### Upload the data to Argilla\n",
    "\n",
    "We can log records to the dataset using the `dataset.records.log` using a `List[Dict]`, however, the dataset columns need to align with the fields, questions and metadata in the Argilla settings. Therefore, we will first format the dataset and then log it."
   ]
  },
  {
   "cell_type": "code",
   "execution_count": null,
   "metadata": {},
   "outputs": [],
   "source": [
    "records = []\n",
    "\n",
    "def format_contexts_as_html_summaries(contexts: list[str]):\n",
    "    context_dict = {f\"Retrieved doc {k}\": value for k, value in enumerate(contexts)}\n",
    "    html_content = \"\"\n",
    "    html_content = \"<body>\"\n",
    "    for k, v in context_dict.items():\n",
    "        html_content += f'<details><summary>{k}</summary>\\n<p>{v}</p>\\n</details>\\n'\n",
    "    html_content += \"</body>\"\n",
    "    return html_content\n",
    "\n",
    "for row_1, row_2 in zip(result_llama, result_phi):\n",
    "    records.append(\n",
    "        {\n",
    "            \"question\": row_1[\"question\"],\n",
    "            \"reference\": row_1[\"reference\"],\n",
    "            \"retrieved_contexts_llama\": format_contexts_as_html_summaries(row_1[\"retrieved_contexts\"]),\n",
    "            \"retrieved_contexts_phi\": format_contexts_as_html_summaries(row_2[\"retrieved_contexts\"]),\n",
    "            \"answer_llama\": row_1[\"answer\"],\n",
    "            \"answer_phi\": row_2[\"answer\"],\n",
    "            \"faithfulness_llama\": int(row_1[\"faithfulness\"]*10),\n",
    "            \"answer_relevancy_llama\": int(row_1[\"answer_relevancy\"]*10),\n",
    "            \"answer_correctness_llama\": int(row_1[\"answer_correctness\"]*10),\n",
    "            \"faithfulness_phi\": int(row_2[\"faithfulness\"]*10),\n",
    "            \"answer_relevancy_phi\": int(row_2[\"answer_relevancy\"]*10),\n",
    "            \"answer_correctness_phi\": int(row_2[\"answer_correctness\"]*10),\n",
    "            \"faithfullness_difference\": abs(row_1[\"faithfulness\"] - row_2[\"faithfulness\"]),\n",
    "            \"answer_relevancy_difference\": abs(row_1[\"answer_relevancy\"] - row_2[\"answer_relevancy\"]),\n",
    "            \"answer_correctness_difference\": abs(row_1[\"answer_correctness\"] - row_2[\"answer_correctness\"]),\n",
    "        }\n",
    "    )\n",
    "dataset.records.log(records)\n",
    "\n"
   ]
  },
  {
   "cell_type": "markdown",
   "metadata": {},
   "source": [
    "We can now have a look at the actual performance of the RAG pipeline for each of the LLMs. While having powerfill search and filtering capabilities. Argilla also allows for sorting the records based on the metadata fields we added before. For example, let's sort the records by the `faithfullness_difference` field to get the records with the biggest difference in faithfulness scores between the two LLMs.\n",
    "\n",
    "![ragas_haystack_evaluation](./images/ragas_haystack_evaluation.png)"
   ]
  }
 ],
 "metadata": {
  "kernelspec": {
   "display_name": ".venv",
   "language": "python",
   "name": "python3"
  },
  "language_info": {
   "codemirror_mode": {
    "name": "ipython",
    "version": 3
   },
   "file_extension": ".py",
   "mimetype": "text/x-python",
   "name": "python",
   "nbconvert_exporter": "python",
   "pygments_lexer": "ipython3",
   "version": "3.10.14"
  }
 },
 "nbformat": 4,
 "nbformat_minor": 2
}
