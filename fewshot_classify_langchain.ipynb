{
 "cells": [
  {
   "cell_type": "markdown",
   "metadata": {},
   "source": [
    "# Fewshot Retrieval Classifier in Langchain and Argilla\n",
    "\n",
    "In this notebook we will show how to use the Langchain and Argilla libraries to build a fewshot retrieval classifier. The classifier will be able to classify a given text into a class by retrieving the most similar text from a set of examples. We will argilla to review the classifications."
   ]
  },
  {
   "cell_type": "code",
   "execution_count": 13,
   "metadata": {},
   "outputs": [],
   "source": [
    "!pip install -qqq langchain \\\n",
    "                  langchain-chroma \\\n",
    "                  langchain-huggingface \\\n",
    "                  datasets"
   ]
  },
  {
   "cell_type": "markdown",
   "metadata": {},
   "source": [
    "We're going to use a basic prompt with a question and topic."
   ]
  },
  {
   "cell_type": "code",
   "execution_count": 66,
   "metadata": {},
   "outputs": [],
   "source": [
    "from langchain_core.prompts import PromptTemplate\n",
    "\n",
    "example_prompt = PromptTemplate.from_template(\"Question: {question}\\n Topic of the question: {topic}\")"
   ]
  },
  {
   "cell_type": "markdown",
   "metadata": {},
   "source": [
    "We will load a toy dataset with examples of yahoo answers and questions and topics of the question. "
   ]
  },
  {
   "cell_type": "code",
   "execution_count": null,
   "metadata": {},
   "outputs": [],
   "source": [
    "from datasets import load_dataset\n",
    "\n",
    "ds = load_dataset((\"burtenshaw/yahoo_answers_topics\"))\n",
    "topics = list(map(lambda s: s.lower(), set(ds[\"train\"][\"topic\"])))"
   ]
  },
  {
   "cell_type": "markdown",
   "metadata": {},
   "source": [
    "This is what the prompt to the LLM will look like:"
   ]
  },
  {
   "cell_type": "code",
   "execution_count": 67,
   "metadata": {},
   "outputs": [
    {
     "name": "stdout",
     "output_type": "stream",
     "text": [
      "Question: why doesn't an optical mouse work on a glass table?\n",
      " Topic of the question: Computers & Internet\n"
     ]
    }
   ],
   "source": [
    "print(example_prompt.invoke(input=ds[\"train\"][0]).to_string())"
   ]
  },
  {
   "cell_type": "markdown",
   "metadata": {},
   "source": [
    "## Define a Fewshot Prompt template in Langchain\n",
    "\n",
    "We will define a prompt template in Langchain that will be used to classify the text. The template will be a question and a topic. The question will be the text to classify and the topic will be the class to classify"
   ]
  },
  {
   "cell_type": "code",
   "execution_count": null,
   "metadata": {},
   "outputs": [],
   "source": [
    "from langchain_core.prompts import FewShotPromptTemplate\n",
    "\n",
    "prompt = FewShotPromptTemplate(\n",
    "    examples=ds[\"train\"].to_list(),\n",
    "    example_prompt=example_prompt,\n",
    "    suffix=\"Question: {input}\",\n",
    "    input_variables=[\"input\"],\n",
    ")"
   ]
  },
  {
   "cell_type": "markdown",
   "metadata": {},
   "source": [
    "Now, we can print our prompt from the template with examples. You can see that the language model will be given answers to previous questions and topics."
   ]
  },
  {
   "cell_type": "code",
   "execution_count": 27,
   "metadata": {},
   "outputs": [
    {
     "name": "stdout",
     "output_type": "stream",
     "text": [
      "Question: why doesn't an optical mouse work on a glass table?\n",
      "Computers & Internet\n",
      "\n",
      "Question: What is the best off-road motorcycle trail ?\n",
      "Sports\n",
      "\n",
      "Question: What is Trans Fat? How to reduce that?\n",
      "Health\n",
      "\n",
      "Question: How many planes Fedex has?\n",
      "Business & Finance\n",
      "\n",
      "Question: In the san francisco bay area, does it make sense to rent or buy ?\n",
      "Business & Finance\n",
      "\n",
      "Question: What's the best way to clean a keyboard?\n",
      "Computers & Internet\n",
      "\n",
      "Question: Why do people blush when they are embarrassed?\n",
      "Science & Mathematics\n",
      "\n",
      "Question: Is Lin Qingxia (aka Brigitte Lin) \"the most beautiful woman in Chinese cinema?\"\n",
      "Entertainment & Music\n",
      "\n",
      "Question: What is the origin of \"foobar\"?\n",
      "Computers & Internet\n",
      "\n",
      "Question: How the human species evolved?\n",
      "Science & Mathematics\n",
      "\n",
      "Question: Who said the statement below and what does it mean?\n",
      "Education & Reference\n",
      "\n",
      "Question: How do I find an out of print book?\n",
      "Education & Reference\n",
      "\n",
      "Question: What are some tips on finding a good mortgage broker?\n",
      "Business & Finance\n",
      "\n",
      "Question: what's the best way to create a bootable windos/dos CD?\n",
      "Computers & Internet\n",
      "\n",
      "Question: what is the reason for the increasing divorce percentage in the western world?\n",
      "Family & Relationships\n",
      "\n",
      "Question: What is an \"imaginary number\"?\n",
      "Science & Mathematics\n",
      "\n",
      "Question: Faxing a pizza\n",
      "Science & Mathematics\n",
      "\n",
      "Question: What are good sources to find out about new gospel artists?\n",
      "Entertainment & Music\n",
      "\n",
      "Question: space missions\n",
      "Science & Mathematics\n",
      "\n",
      "Question: How a black hole is formed?\n",
      "Science & Mathematics\n",
      "\n",
      "Question: Heavy water\n",
      "Science & Mathematics\n",
      "\n",
      "Question: When will Her Majesty be released in Dvd format?\n",
      "Entertainment & Music\n",
      "\n",
      "Question: Is a transponder required to fly in class C airspace?\n",
      "Science & Mathematics\n",
      "\n",
      "Question: How to get rid of a beehive?\n",
      "Education & Reference\n",
      "\n",
      "Question: Nice apartment building near SBC Park?\n",
      "Business & Finance\n",
      "\n",
      "Question: What are world's 3 smallest nations?\n",
      "Science & Mathematics\n",
      "\n",
      "Question: What is the best riddle that you know?\n",
      "Business & Finance\n",
      "\n",
      "Question: Economics of running a restaurant?\n",
      "Business & Finance\n",
      "\n",
      "Question: Why do gas stations mix ethanol into gas?\n",
      "Science & Mathematics\n",
      "\n",
      "Question: Why we are not using the sea waves to generate electricity?\n",
      "Science & Mathematics\n",
      "\n",
      "Question: Why doesn't the NBA implement a minor leagues?\n",
      "Sports\n",
      "\n",
      "Question: What's the longest english word without a vowel in it?\n",
      "Education & Reference\n",
      "\n",
      "Question: Formula1 car\n",
      "Sports\n",
      "\n",
      "Question: how was Einstein's General Relativity theory proven ?\n",
      "Science & Mathematics\n",
      "\n",
      "Question: Can someone tell me what happened in Buffy's series finale?\n",
      "Entertainment & Music\n",
      "\n",
      "Question: How does a person live his whole life with the notion of impending death\n",
      "Science & Mathematics\n",
      "\n",
      "Question: how does a helicopter fly\n",
      "Science & Mathematics\n",
      "\n",
      "Question: Why would Big Ten keep its name inspite of adding a 11th school?\n",
      "Education & Reference\n",
      "\n",
      "Question: How effective is massage in relieving stress?\n",
      "Health\n",
      "\n",
      "Question: Is there a good reference for California Landlord-Tenant Law?\n",
      "Politics & Government\n",
      "\n",
      "Question: Triangular distribution random function\n",
      "Computers & Internet\n",
      "\n",
      "Question: Capturing light in a container\n",
      "Science & Mathematics\n",
      "\n",
      "Question: When will Google buy Yahoo?\n",
      "Business & Finance\n",
      "\n",
      "Question: Do animals have feelings?\n",
      "Science & Mathematics\n",
      "\n",
      "Question: Is Trigonometry considered high school or college level math?\n",
      "Education & Reference\n",
      "\n",
      "Question: Why is there often a mirror in an elevator?\n",
      "Business & Finance\n",
      "\n",
      "Question: Can someone explain the theory of e=mc2?\n",
      "Science & Mathematics\n",
      "\n",
      "Question: Why can Bush get away with misinforming us about intelligence, then use that as reason for war?\n",
      "Politics & Government\n",
      "\n",
      "Question: where did term \"tie the knot\" come from?\n",
      "Education & Reference\n",
      "\n",
      "Question: How can the Chicago Cubs break their curse?\n",
      "Sports\n",
      "\n",
      "Question: Why doesn't my mouse work on my glass table?\n"
     ]
    }
   ],
   "source": [
    "\n",
    "new_question = \"Why doesn't my mouse work on my glass table?\"\n",
    "\n",
    "print(prompt.invoke({\"input\": new_question}).to_string())"
   ]
  },
  {
   "cell_type": "markdown",
   "metadata": {},
   "source": [
    "# Retrieving similar Fewshot examples\n",
    "\n",
    "We don't just want to throw any examples in to our prompt. Ideally, we will use few shot examples that are similar to the question we're trying to classify. \n",
    "\n",
    "To do that, we will use a vector index, embeddings, and cosine similarity to retrieve the most similar examples to the question we're trying to classify. We can implement this with three langchain integrations:\n",
    "\n",
    "- `Chroma`: A vector index to store the embeddings of the examples\n",
    "- `HuggingFaceEndpointEmbeddings`: To get the embeddings of the question, served on a Hugging Face endpoint\n",
    "- `SemanticSimilarityExampleSelector`: To retrieve the most similar examples to the question from the database"
   ]
  },
  {
   "cell_type": "code",
   "execution_count": 68,
   "metadata": {},
   "outputs": [],
   "source": [
    "from langchain_core.example_selectors import SemanticSimilarityExampleSelector\n",
    "from langchain_huggingface import HuggingFaceEndpointEmbeddings\n",
    "from langchain_chroma import Chroma\n",
    "\n",
    "hf = HuggingFaceEndpointEmbeddings(\n",
    "    model=\"sentence-transformers/all-mpnet-base-v2\",\n",
    "    task=\"feature-extraction\",\n",
    "    huggingfacehub_api_token=\"<your-huggingfacehub-api-token>\",\n",
    ")\n",
    "\n",
    "example_selector = SemanticSimilarityExampleSelector.from_examples(\n",
    "    examples=ds[\"train\"].to_list(),\n",
    "    embeddings=hf,\n",
    "    vectorstore_cls=Chroma,\n",
    "    k=5,\n",
    ")"
   ]
  },
  {
   "cell_type": "markdown",
   "metadata": {},
   "source": [
    "Now we can use out example selector to retrieve the most similar examples to the question we're trying to classify."
   ]
  },
  {
   "cell_type": "code",
   "execution_count": 69,
   "metadata": {},
   "outputs": [
    {
     "name": "stdout",
     "output_type": "stream",
     "text": [
      "{'answer': 'Optical mice use an LED and a camera to rapidly capture images of the surface beneath the mouse.  The infomation from the camera is analyzed by a DSP (Digital Signal Processor) and used to detect imperfections in the underlying surface and determine motion. Some materials, such as glass, mirrors or other very shiny, uniform surfaces interfere with the ability of the DSP to accurately analyze the surface beneath the mouse.  \\\\nSince glass is transparent and very uniform, the mouse is unable to pick up enough imperfections in the underlying surface to determine motion.  Mirrored surfaces are also a problem, since they constantly reflect back the same image, causing the DSP not to recognize motion properly. When the system is unable to see surface changes associated with movement, the mouse will not work properly.', 'question': \"why doesn't an optical mouse work on a glass table?\", 'topic': 'Computers & Internet'}\n",
      "{'answer': 'Optical mice use an LED and a camera to rapidly capture images of the surface beneath the mouse.  The infomation from the camera is analyzed by a DSP (Digital Signal Processor) and used to detect imperfections in the underlying surface and determine motion. Some materials, such as glass, mirrors or other very shiny, uniform surfaces interfere with the ability of the DSP to accurately analyze the surface beneath the mouse.  \\\\nSince glass is transparent and very uniform, the mouse is unable to pick up enough imperfections in the underlying surface to determine motion.  Mirrored surfaces are also a problem, since they constantly reflect back the same image, causing the DSP not to recognize motion properly. When the system is unable to see surface changes associated with movement, the mouse will not work properly.', 'question': \"why doesn't an optical mouse work on a glass table?\", 'topic': 'Computers & Internet'}\n",
      "{'answer': 'Optical mice use an LED and a camera to rapidly capture images of the surface beneath the mouse.  The infomation from the camera is analyzed by a DSP (Digital Signal Processor) and used to detect imperfections in the underlying surface and determine motion. Some materials, such as glass, mirrors or other very shiny, uniform surfaces interfere with the ability of the DSP to accurately analyze the surface beneath the mouse.  \\\\nSince glass is transparent and very uniform, the mouse is unable to pick up enough imperfections in the underlying surface to determine motion.  Mirrored surfaces are also a problem, since they constantly reflect back the same image, causing the DSP not to recognize motion properly. When the system is unable to see surface changes associated with movement, the mouse will not work properly.', 'question': \"why doesn't an optical mouse work on a glass table?\", 'topic': 'Computers & Internet'}\n",
      "{'answer': \"There are commercial kits available, but a can of compressed air, a lint-free cloth or wipes, mild dishwashing liquid, and a vacuum cleaner with a soft brush are all you really need for a basic cleaning. \\\\nAfter turning off your computer and unplugging your keyboard, gently shake the keyboard upside down over some newspaper to dislodge loose crumbs and particles. \\\\nUse the can of compressed air to blow a stream of air between the keys. \\\\nDampen a lint-free cloth with a diluted solution of dishwashing liquid and water to wipe down the keys. \\\\nUse the vacuum cleaner brush attachment to suck away any remaining dirt or debris. <br />\\\\nIf you have a membrane-type keyboard (it doesn't have a spring under each key) and the keys are truly grungy, you can remove the keys with a small screwdriver and use cotton swabs and 90% isopropyl alcohol to get it sparkling clean. If you are still feeling industrious, next you can tackle cleaning your mouse. \\\\nOf course, if cleaning your keyboard seems a truly undesirable task, you can always buy a new one for around $20.\", 'question': \"What's the best way to clean a keyboard?\", 'topic': 'Computers & Internet'}\n",
      "{'answer': \"There are commercial kits available, but a can of compressed air, a lint-free cloth or wipes, mild dishwashing liquid, and a vacuum cleaner with a soft brush are all you really need for a basic cleaning. \\\\nAfter turning off your computer and unplugging your keyboard, gently shake the keyboard upside down over some newspaper to dislodge loose crumbs and particles. \\\\nUse the can of compressed air to blow a stream of air between the keys. \\\\nDampen a lint-free cloth with a diluted solution of dishwashing liquid and water to wipe down the keys. \\\\nUse the vacuum cleaner brush attachment to suck away any remaining dirt or debris. <br />\\\\nIf you have a membrane-type keyboard (it doesn't have a spring under each key) and the keys are truly grungy, you can remove the keys with a small screwdriver and use cotton swabs and 90% isopropyl alcohol to get it sparkling clean. If you are still feeling industrious, next you can tackle cleaning your mouse. \\\\nOf course, if cleaning your keyboard seems a truly undesirable task, you can always buy a new one for around $20.\", 'question': \"What's the best way to clean a keyboard?\", 'topic': 'Computers & Internet'}\n"
     ]
    }
   ],
   "source": [
    "selected_examples = example_selector.select_examples(\n",
    "    input_variables={\"question\": new_question}\n",
    ")\n",
    "\n",
    "print(*selected_examples, sep=\"\\n\")"
   ]
  },
  {
   "cell_type": "markdown",
   "metadata": {},
   "source": [
    "# Update the prompt with the retrieved examples\n",
    "\n",
    "We can now update our FewShot prompt template with the retrieved examples based on the question. This will give the language model more context to classify the question."
   ]
  },
  {
   "cell_type": "code",
   "execution_count": 71,
   "metadata": {},
   "outputs": [
    {
     "name": "stdout",
     "output_type": "stream",
     "text": [
      "Question: why doesn't an optical mouse work on a glass table?\n",
      " Topic of the question: Computers & Internet\n",
      "\n",
      "Question: why doesn't an optical mouse work on a glass table?\n",
      " Topic of the question: Computers & Internet\n",
      "\n",
      "Question: why doesn't an optical mouse work on a glass table?\n",
      " Topic of the question: Computers & Internet\n",
      "\n",
      "Question: What's the best way to clean a keyboard?\n",
      " Topic of the question: Computers & Internet\n",
      "\n",
      "Question: What's the best way to clean a keyboard?\n",
      " Topic of the question: Computers & Internet\n",
      "\n",
      "Question: Why doesn't my mouse work on my glass table?\n",
      "Topic of the question:\n"
     ]
    }
   ],
   "source": [
    "prompt = FewShotPromptTemplate(\n",
    "    examples=selected_examples,\n",
    "    example_prompt=example_prompt,\n",
    "    suffix=\"Question: {input}\\nTopic of the question:\",\n",
    "    input_variables=[\"input\"],\n",
    ")\n",
    "print(prompt.invoke({\"input\": new_question}).to_string())"
   ]
  },
  {
   "cell_type": "markdown",
   "metadata": {},
   "source": [
    "# Define a language model in Langchain\n",
    "\n",
    "We will use another Hugging Face endpoint to serve the language model. This time we will use Llama-3.1-8B-Instruct by meta."
   ]
  },
  {
   "cell_type": "code",
   "execution_count": 72,
   "metadata": {},
   "outputs": [
    {
     "name": "stdout",
     "output_type": "stream",
     "text": [
      "The token has not been saved to the git credentials helper. Pass `add_to_git_credential=True` in this function directly or `--add-to-git-credential` if using via `huggingface-cli` if you want to set the git credential as well.\n",
      "Token is valid (permission: write).\n",
      "Your token has been saved to /Users/ben/.cache/huggingface/token\n",
      "Login successful\n"
     ]
    }
   ],
   "source": [
    "from langchain_huggingface import HuggingFaceEndpoint, ChatHuggingFace\n",
    "\n",
    "llm = ChatHuggingFace(\n",
    "    llm=HuggingFaceEndpoint(\n",
    "        repo_id=\"meta-llama/Llama-3.1-8B-Instruct\",\n",
    "        task=\"text-generation\",\n",
    "        max_new_tokens=20,\n",
    "        do_sample=False,\n",
    "        repetition_penalty=1.03,\n",
    "    ),\n",
    "    verbose=True,\n",
    ")"
   ]
  },
  {
   "cell_type": "markdown",
   "metadata": {},
   "source": [
    "# Define the Fewshot Retrieval Classifier in Langchain\n",
    "\n",
    "Now we can define the Fewshot Retrieval Classifier in Langchain. The classifier will use the prompt template, the example selector, and the language model to classify the question. The model we're using is a chat model, so we will need to represent the question as a chat message."
   ]
  },
  {
   "cell_type": "code",
   "execution_count": 77,
   "metadata": {},
   "outputs": [
    {
     "data": {
      "text/plain": [
       "'Computers & Internet'"
      ]
     },
     "execution_count": 77,
     "metadata": {},
     "output_type": "execute_result"
    }
   ],
   "source": [
    "def call_llama(question):\n",
    "    selected_examples = example_selector.select_examples(\n",
    "        input_variables={\"question\": question}\n",
    "    )\n",
    "    prompt = FewShotPromptTemplate(\n",
    "        prefix=f\"Select the topic of the question from these topics : {topics}\\n Return only the topic of the question\\n\",\n",
    "        examples=selected_examples,\n",
    "        example_prompt=example_prompt,\n",
    "        suffix=\"Question: {input}\\nTopic:\",\n",
    "        input_variables=[\"input\"],\n",
    "    )\n",
    "    messages = [{\"role\": \"user\", \"content\": prompt.format(input=question)}]\n",
    "    return llm.invoke(input=messages).content\n",
    "\n",
    "\n",
    "call_llama(new_question)"
   ]
  },
  {
   "cell_type": "markdown",
   "metadata": {},
   "source": [
    "Great. That works on one example. Now let's try it on a few examples."
   ]
  },
  {
   "cell_type": "code",
   "execution_count": 62,
   "metadata": {},
   "outputs": [
    {
     "name": "stdout",
     "output_type": "stream",
     "text": [
      "{'topic': 'computers & internet', 'question': 'What makes friendship click?', 'answer': \"good communication is what does it.  Can you move beyond small talk and say what's really on your mind.  If you start doing this, my expereince is that potentially good friends will respond or shun you.  Then you know who the really good friends are.\"}\n",
      "{'topic': 'computers & internet', 'question': 'Why does Zebras have stripes?', 'answer': 'this provides camouflage - predator vision is such that it is usually difficult for them to see complex patterns'}\n",
      "{'topic': 'computers & internet', 'question': 'What did the itsy bitsy sipder climb up?', 'answer': 'waterspout'}\n",
      "{'topic': 'computers & internet', 'question': 'What is the difference between a Bachelors and a Masters degree?', 'answer': \"One difference between a Bachelors and a Masters degree are the requirements. To gain eligibility for a Bachelors, you must have at least a GED and have scored well enough on the SAT. To be eligible for a Masters Degree, you must have completed a Bachelors degree program, and adequate scores on the GRE.\\\\n\\\\nIn addition, as a Bachelors degree student, your first year or two focuses on the acquisition of general knowledge and the last few years become more specialized, focusing primarily on classes for your major/minor area. \\\\n\\\\nIn contrast, the Master's degree program takes usually only 2 years to complete and the student is only focused on learning one speciality area during that time. In addition, a Masters program requires the student to be more of an independent learner, with classes requiring much more research and independent thought.\"}\n",
      "{'topic': 'computers & internet', 'question': 'Why do women get PMS?', 'answer': \"Premenstrual syndrome (PMS) is a group of symptoms related to the menstrual cycle. PMS is linked to changes in the endocrine system, which produces hormones that control the menstrual cycle. Medical experts don't fully understand the chain of events that causes premenstrual symptoms to be severe in some women and not in others. The one direct cause that is known to affect some women is genetic: Many women with PMS have a close family member with a history of PMS.\"}\n"
     ]
    }
   ],
   "source": [
    "predictions = []\n",
    "\n",
    "for sample in ds[\"test\"]:\n",
    "    sample[\"topic\"] = call_llama(sample[\"question\"]).lower()\n",
    "    predictions.append(sample)\n",
    "\n",
    "print(*predictions[:5], sep=\"\\n\")"
   ]
  },
  {
   "cell_type": "markdown",
   "metadata": {},
   "source": [
    "# Argilla\n",
    "\n",
    "Now we can use Argilla to review the classifications and see whether the retrievals are helping the model to classify the questions."
   ]
  },
  {
   "cell_type": "code",
   "execution_count": 78,
   "metadata": {},
   "outputs": [
    {
     "name": "stderr",
     "output_type": "stream",
     "text": [
      "/Users/ben/code/argilla-cookbook/.venv/lib/python3.12/site-packages/argilla/datasets/_resource.py:250: UserWarning: Workspace not provided. Using default workspace: argilla id: 31fb2d4c-46f8-4698-8dcb-27555e78c092\n",
      "  warnings.warn(f\"Workspace not provided. Using default workspace: {workspace.name} id: {workspace.id}\")\n"
     ]
    },
    {
     "data": {
      "text/plain": [
       "Dataset(id=UUID('f1ce36a4-ee82-4500-b884-28abc143f2d5') inserted_at=datetime.datetime(2024, 10, 3, 12, 31, 52, 25541) updated_at=datetime.datetime(2024, 10, 3, 12, 31, 53, 28625) name='langchain-fewshot-classification-uuid-416fc3c1-ac03-477e-92af-a90bc8722688' status='ready' guidelines=None allow_extra_metadata=False distribution=OverlapTaskDistributionModel(strategy='overlap', min_submitted=1) workspace_id=UUID('31fb2d4c-46f8-4698-8dcb-27555e78c092') last_activity_at=datetime.datetime(2024, 10, 3, 12, 31, 53, 28625))"
      ]
     },
     "execution_count": 78,
     "metadata": {},
     "output_type": "execute_result"
    }
   ],
   "source": [
    "from uuid import uuid4\n",
    "import argilla as rg\n",
    "\n",
    "client = rg.Argilla()\n",
    "\n",
    "dataset = rg.Dataset(\n",
    "    name=f\"langchain-fewshot-classification-uuid-{uuid4()}\",\n",
    "    settings=rg.Settings(\n",
    "        fields=[\n",
    "            rg.TextField(name=\"question\"),\n",
    "            rg.TextQuestion(name=\"answer\"),\n",
    "        ],\n",
    "        questions=[rg.LabelQuestion(name=\"topic\", labels=topics)],\n",
    "    ),\n",
    ")\n",
    "\n",
    "dataset.create()\n",
    "\n",
    "dataset.records.log(predictions)"
   ]
  }
 ],
 "metadata": {
  "kernelspec": {
   "display_name": ".venv",
   "language": "python",
   "name": "python3"
  },
  "language_info": {
   "codemirror_mode": {
    "name": "ipython",
    "version": 3
   },
   "file_extension": ".py",
   "mimetype": "text/x-python",
   "name": "python",
   "nbconvert_exporter": "python",
   "pygments_lexer": "ipython3",
   "version": "3.12.4"
  }
 },
 "nbformat": 4,
 "nbformat_minor": 2
}
